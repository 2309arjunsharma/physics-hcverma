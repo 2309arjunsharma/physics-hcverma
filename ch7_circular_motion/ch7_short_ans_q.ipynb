{
 "cells": [
  {
   "cell_type": "markdown",
   "id": "cecef66d",
   "metadata": {},
   "source": [
    "# __SHORT ANSWER__"
   ]
  },
  {
   "cell_type": "markdown",
   "id": "85900248",
   "metadata": {},
   "source": [
    "__Q1__\n",
    "- Here, we can get acceleration by just changing the direction of velocity."
   ]
  },
  {
   "cell_type": "markdown",
   "id": "e0d7815a",
   "metadata": {},
   "source": [
    "__Q2__\n",
    "- "
   ]
  }
 ],
 "metadata": {
  "language_info": {
   "name": "python"
  }
 },
 "nbformat": 4,
 "nbformat_minor": 5
}
