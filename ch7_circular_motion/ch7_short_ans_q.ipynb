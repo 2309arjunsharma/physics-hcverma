{
 "cells": [
  {
   "cell_type": "markdown",
   "id": "cecef66d",
   "metadata": {},
   "source": [
    "# __SHORT ANSWER__"
   ]
  },
  {
   "cell_type": "markdown",
   "id": "85900248",
   "metadata": {},
   "source": [
    "__Q1__\n",
    "- Here, we can get acceleration by just changing the direction of velocity."
   ]
  },
  {
   "cell_type": "markdown",
   "id": "e0d7815a",
   "metadata": {},
   "source": [
    "__Q2__\n",
    "- The obserever inside has an accelerating/ non-inertial frame therefore"
   ]
  },
  {
   "cell_type": "markdown",
   "id": "cabdb358",
   "metadata": {},
   "source": [
    "__Q3__\n",
    "- Here, friction balances the F(cf) and thus coin does not slip on the record\n",
    "- Since friction is acting toward centre, so here friction will work as centripetal force\n"
   ]
  }
 ],
 "metadata": {
  "language_info": {
   "name": "python"
  }
 },
 "nbformat": 4,
 "nbformat_minor": 5
}
