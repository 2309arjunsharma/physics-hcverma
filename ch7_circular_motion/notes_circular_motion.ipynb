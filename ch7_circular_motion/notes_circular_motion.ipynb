{
 "cells": [
  {
   "cell_type": "markdown",
   "id": "2260b824",
   "metadata": {},
   "source": [
    "# __CH-7 CIRCULAR MOTION__"
   ]
  },
  {
   "cell_type": "markdown",
   "id": "4e19dadd",
   "metadata": {},
   "source": [
    "## 7.1 ANGULAR VARIABLES"
   ]
  },
  {
   "cell_type": "markdown",
   "id": "a1539f62",
   "metadata": {},
   "source": [
    "__Frequency__\n",
    "- No. of revolutions described by particle per second is its frequency.\n",
    "- Units = rps, rpm\n",
    "\n",
    "__Time Period__\n",
    "- The time taken by particle to complete 1 revolution"
   ]
  },
  {
   "cell_type": "markdown",
   "id": "77ea8594",
   "metadata": {},
   "source": [
    "__Parameters of circular motion__\n",
    "1. ANGULAR DISPLACEMENT [θ]\n",
    "2. ANGULAR VELOCITY = angular disp/time [w]\n",
    "3. Angular acceleration = angular velocity/time [α]"
   ]
  },
  {
   "cell_type": "markdown",
   "id": "d5e13cae",
   "metadata": {},
   "source": [
    "### 7.2 UNIFORM CIRCULAR VECTOR MOTION\n",
    "- If particle moves with a constant speed in a circle, the motion is called uniform circular motion\n",
    "- The acceleration is only due to change in direction of velocity vector."
   ]
  },
  {
   "cell_type": "markdown",
   "id": "1d9ebaec",
   "metadata": {},
   "source": [
    "### 7.3 NON-UNIFORM CIRCULAR MOTION (VERTICAL)\n",
    "- If particle moves with variable speed in a circle, then motion is called non-uniform circular motion.\n",
    "- Acceleration has two components:- \n",
    "    - ac = responsible for change in direction only\n",
    "    - at = responsible for change in speed only"
   ]
  },
  {
   "cell_type": "markdown",
   "id": "5e239118",
   "metadata": {},
   "source": [
    "### 7.4 MOTION WITH CONSTANT ACCELERATION\n",
    "- u = Initial velocity\n",
    "- v = Final velocity\n",
    "- a = Constant acceleration\n",
    "- s = Displacement"
   ]
  },
  {
   "cell_type": "markdown",
   "id": "19fe8a06",
   "metadata": {},
   "source": [
    "## 7.5 Centrifugal force\n",
    "- Centrifugal force is a suffiecient psuedo force, only if we are analysing the particles at rest in a uniformly rotating frame\n",
    "- It is pseudo force\n",
    "- When a body moves in a circular path, the force that acts away from the centre is called centrifugal force"
   ]
  }
 ],
 "metadata": {
  "language_info": {
   "name": "python"
  }
 },
 "nbformat": 4,
 "nbformat_minor": 5
}
