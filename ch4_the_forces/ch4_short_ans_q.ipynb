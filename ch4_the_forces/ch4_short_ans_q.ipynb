{
 "cells": [
  {
   "cell_type": "markdown",
   "id": "c284a914",
   "metadata": {},
   "source": [
    "# SHORT ANSWER QUESTIONS OF CH-4"
   ]
  },
  {
   "cell_type": "markdown",
   "id": "997c3916",
   "metadata": {},
   "source": [
    "__Q1__ \n",
    "- Reaction - mg at centre of earth in opposite direction.\n",
    " "
   ]
  },
  {
   "cell_type": "markdown",
   "id": "2845a07b",
   "metadata": {},
   "source": [
    "__Q2__\n",
    "- ___ON BOY___\n",
    "1. \n",
    "    - Action force of gravity = m₁g↓\n",
    "    - Reaction from on centre of earth = m₁g↑\n",
    "\n",
    "2. \n",
    "    - Action force on chair = N₁↓\n",
    "    - Reaction force on him by chair = N₁↑\n",
    "\n",
    "- ___ON CHAIR___\n",
    "1. \n",
    "    - Action force of gravity = m₂g↓\n",
    "    - Reaction from on centre of earth = m₂g↑\n",
    "\n",
    "2. \n",
    "    - Action force on chair by body = N₁↓\n",
    "    - Reaction force on boy by chair = N₁↑\n",
    "\n",
    "3. \n",
    "    - Action force of chair on earth surface = N₂↓\n",
    "    - Reaction force of earth on chair = N₂↑\n",
    "\n",
    "- ___ON EARTH___\n",
    "1. \n",
    "    - Action force of boy on it = m₁g↓\n",
    "    - Reaction from of earth on boy = m₁g↑\n",
    "\n",
    "2. \n",
    "    - Action force oF chair on earth = N₁↓\n",
    "    - Reaction force on boy by chair = N₁↑\n",
    "\n",
    "3. \n",
    "    - Action force on surface of earth = N₂↓\n",
    "    - Reaction force of earth on chair = N₂↑\n",
    "\n",
    "\n",
    "    "
   ]
  },
  {
   "cell_type": "markdown",
   "id": "958b4826",
   "metadata": {},
   "source": [
    "__Q3__\n",
    "- It can be psychologocial or physical force. In case of 2nd case, it will be electromagnetic force\n"
   ]
  },
  {
   "cell_type": "markdown",
   "id": "234878f7",
   "metadata": {},
   "source": [
    "__Q4__\n",
    "1. Electromagnetic force\n",
    "2. Gravitational force\n",
    "3. Weak force\n"
   ]
  },
  {
   "cell_type": "markdown",
   "id": "2b7cdf03",
   "metadata": {},
   "source": [
    "__Q5__\n",
    "- Yes the reaction of a given force remains the same force only."
   ]
  }
 ],
 "metadata": {
  "language_info": {
   "name": "python"
  }
 },
 "nbformat": 4,
 "nbformat_minor": 5
}
