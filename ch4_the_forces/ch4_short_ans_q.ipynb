{
 "cells": [
  {
   "cell_type": "markdown",
   "id": "c284a914",
   "metadata": {},
   "source": [
    "# SHORT ANSWER QUESTIONS OF CH-4"
   ]
  },
  {
   "cell_type": "markdown",
   "id": "997c3916",
   "metadata": {},
   "source": [
    "__Q1__ \n",
    "- Reaction - mg at centre of earth in opposite direction.\n",
    " "
   ]
  },
  {
   "cell_type": "markdown",
   "id": "2845a07b",
   "metadata": {},
   "source": [
    "__Q2__\n",
    "- ___ON BOY___\n",
    "1. \n",
    "    - Action force of gravity = m₁g↓\n",
    "    - Reaction from on centre of earth = m₁g↑\n",
    "\n",
    "2. \n",
    "    - Action force on chair = N₁↓\n",
    "    - Reaction force on him by chair = N₁↑\n",
    "\n",
    "- ___ON CHAIR___\n",
    "1. \n",
    "    - Action force of gravity = m₂g↓\n",
    "    - Reaction from on centre of earth = m₂g↑\n",
    "\n",
    "2. \n",
    "    - Action force on chair by body = N₁↓\n",
    "    - Reaction force on boy by chair = N₁↑\n",
    "\n",
    "3. \n",
    "    - Action force of chair on earth surface = N₂↓\n",
    "    - Reaction force of earth on chair = N₂↑\n",
    "\n",
    "- ___ON EARTH___\n",
    "1. \n",
    "    - Action force of boy on it = m₁g↓\n",
    "    - Reaction from of earth on boy = m₁g↑\n",
    "\n",
    "2. \n",
    "    - Action force oF chair on earth = N₁↓\n",
    "    - Reaction force on boy by chair = N₁↑\n",
    "\n",
    "3. \n",
    "    - Action force on surface of earth = N₂↓\n",
    "    - Reaction force of earth on chair = N₂↑\n",
    "\n",
    "\n",
    "    "
   ]
  },
  {
   "cell_type": "markdown",
   "id": "958b4826",
   "metadata": {},
   "source": [
    "__Q3__\n",
    "- It can be psychologocial or physical force. In case of 2nd case, it will be electromagnetic force\n"
   ]
  },
  {
   "cell_type": "markdown",
   "id": "234878f7",
   "metadata": {},
   "source": [
    "__Q4__\n",
    "1. Electromagnetic force\n",
    "2. Gravitational force\n",
    "3. Weak force\n"
   ]
  },
  {
   "cell_type": "markdown",
   "id": "2b7cdf03",
   "metadata": {},
   "source": [
    "__Q5__\n",
    "- Yes the reaction of a given force remains the same force only."
   ]
  },
  {
   "cell_type": "markdown",
   "id": "7913ad67",
   "metadata": {},
   "source": [
    "__Q6__\n",
    "- F/C = 9 X 10⁹ X (1.6 X 10-¹⁹)²/(8 X 10-¹⁵)² = 90  X 0.2 X 0.2 = 3.6\n",
    "\n",
    "1. \n",
    "- (a) At x = 8 fm\n",
    "- Ratio = Fn/Fc = 0.25/3,6 = 1/4 X 3.6 = 1/14.4 = 0.07\n",
    "\n",
    "2. \n",
    "- (b) At x = 4 fm,\n",
    "- Fc = 4 X 3.6 = 14.4\n",
    "- Ratio = 1/14.4 = 0.07\n",
    "\n",
    "3. \n",
    "- (c) At x = 2 fm, \n",
    "- Fc = 16 x 3.6\n",
    "- Ratio = 10/16 X 3.6 = 0.17\n",
    "\n",
    "4. \n",
    "- (d) At x = 1 fm\n",
    "- Fc = 64 x 3.6\n",
    "- Ratio = 333/64 x 3.6 = 1.44"
   ]
  },
  {
   "cell_type": "markdown",
   "id": "d325ef7f",
   "metadata": {},
   "source": [
    "__Q7__\n",
    "1. Gravitation force\n",
    "2. Nuclear force\n",
    "3. Action of A\n",
    "4. Reaction force of substance\n",
    "5. Friction\n"
   ]
  },
  {
   "cell_type": "markdown",
   "id": "229902da",
   "metadata": {},
   "source": [
    "__Q8__ \n",
    "\n",
    "1. \n",
    "- (a)\n",
    "- Normal-y force\n",
    "- Normal-x force\n",
    "- Tension force\n",
    "- Muscular Force\n",
    "\n",
    "2. \n",
    "- (b)\n",
    "- Gravitational force\n",
    "- Tension force\n",
    "- Friction\n",
    "- N' force\n",
    "\n",
    "3. \n",
    "- (c)\n",
    "- Tension force\n",
    "- Gravitational force"
   ]
  },
  {
   "cell_type": "markdown",
   "id": "dd782dd9",
   "metadata": {},
   "source": [
    "__Q9__\n",
    "- _Wagon_\n",
    "    - Normal₁ \n",
    "    - Normal₂\n",
    "    - Tension force\n",
    "    - Friction₁\n",
    "    - Friction₂\n",
    "    - Gravitational\n",
    "- _Man_\n",
    "    - Gravitational \n",
    "    - Friction\n",
    "    - Tension \n",
    "    - Normal₃"
   ]
  },
  {
   "cell_type": "markdown",
   "id": "ed9c793d",
   "metadata": {},
   "source": [
    "__Q10__"
   ]
  }
 ],
 "metadata": {
  "language_info": {
   "name": "python"
  }
 },
 "nbformat": 4,
 "nbformat_minor": 5
}
