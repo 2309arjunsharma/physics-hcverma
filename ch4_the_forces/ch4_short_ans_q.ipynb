{
 "cells": [
  {
   "cell_type": "markdown",
   "id": "c284a914",
   "metadata": {},
   "source": [
    "# SHORT ANSWER QUESTIONS OF CH-4"
   ]
  }
 ],
 "metadata": {
  "language_info": {
   "name": "python"
  }
 },
 "nbformat": 4,
 "nbformat_minor": 5
}
