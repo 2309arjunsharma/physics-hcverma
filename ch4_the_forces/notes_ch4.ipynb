{
 "cells": [
  {
   "cell_type": "markdown",
   "id": "d31836de",
   "metadata": {},
   "source": [
    "# __CHAPTER-4 THE FORCES__"
   ]
  }
 ],
 "metadata": {
  "language_info": {
   "name": "python"
  }
 },
 "nbformat": 4,
 "nbformat_minor": 5
}
