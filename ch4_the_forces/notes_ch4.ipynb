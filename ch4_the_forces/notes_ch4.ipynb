{
 "cells": [
  {
   "cell_type": "markdown",
   "id": "d31836de",
   "metadata": {},
   "source": [
    "# __CHAPTER-4 THE FORCES__"
   ]
  },
  {
   "cell_type": "markdown",
   "id": "19eb0ccd",
   "metadata": {},
   "source": [
    "## 4.1 INTRODUCTION"
   ]
  },
  {
   "cell_type": "markdown",
   "id": "f64d2644",
   "metadata": {},
   "source": [
    "- When you push or pull some object you exert force on it\n",
    "- If you push a body, you exert a force away from yourself; when you pull, you exert a force toward yourself.\n",
    "- When you hold a heavy block in your hand, you exert a large force; when you hold a light block in your hand, you exert a small force\n",
    "- The SI unit for measuring the force is called _newton_.\n",
    "- Approx. it is the force needed to hold a body of mass 102g near earth's surface.\n",
    "- Force is an interaction between two objects.\n",
    "- Force is a vector quantity. It has magnitude as well as direction.\n",
    "- If a body A exerts a force on B, the body B also exerts a force on A."
   ]
  },
  {
   "cell_type": "markdown",
   "id": "12237447",
   "metadata": {},
   "source": [
    "__Newton's Third Law of Motion__\n",
    "- _If a body A exerts a force F on another body B, then B exerts a force -F on A, the two forces acting along the line joining the bodies_\n",
    "- The two forces F and -F connected by Newton's third law are called _action-reaction pair._"
   ]
  },
  {
   "cell_type": "markdown",
   "id": "3680ca89",
   "metadata": {},
   "source": [
    "- Various types of force are\n",
    "    - (a) Gravitional\n",
    "    - (b) Electromagnetic\n",
    "    - (c) Nuclear\n",
    "    - (d) Weak\n"
   ]
  },
  {
   "cell_type": "markdown",
   "id": "5133b601",
   "metadata": {},
   "source": [
    "## 4.2 GRAVITIONAL FORCE\n",
    "- Any two bodies attract each other by virtue of their masses\n",
    "- The force of attraction between masses is ___F = G(m₁m₂/r²)___ where _m₁_ and _m₂_ are the masses and _r_ is the distance between them.\n",
    "- G is a universal constant having value ___6.67 X 10-¹¹ N-m ²/kg²___\n",
    "- The gravitational force exerted by a spherically symmetric body m₁ on anothe such body of mass m₂ kept outside the first body is G(m₁m₂/r²), where r is the distance between centres of the two bodies."
   ]
  },
  {
   "cell_type": "markdown",
   "id": "9d8ca138",
   "metadata": {},
   "source": [
    "__Gravitational Force on Small Bodies by the Earth__\n",
    "- The force of attraction exerted by the earth on other objects is called gravity.\n",
    "- The force Earth exerts on a particle of mass _m_ kept near its surface is ___F = G(Mm/R²)___\n",
    "- The direction is towards centre of Earth which is called _vertically downward_ direction\n",
    "- It is also called _acceleration due to gravity_, and is denoted by the letter _g_.\n",
    "- Its value is approximately _9.8 m/s²_\n",
    "- The force exerted by the Earth on a small body of mass _m_, kept near the earth's surface is _mg_ in the vertically downward direction."
   ]
  },
  {
   "cell_type": "markdown",
   "id": "b1564997",
   "metadata": {},
   "source": [
    "## 4.3 ELECTROMAGNETIC (EM) FORCE\n",
    "- If two particles having charges _q₁_ and _q₂_ are at rest with respect to the observer, the force between them has a magnitude of.\n",
    "- ___F = (1/4πε₀)(q₁q₂/r²)___\n",
    "- ___ε₀ = 8.85419 X 10-¹² C²/N-m²___\n",
    "- ___1/4πε₀ = 9 X 10⁹ Nm²/C²___\n",
    "- This is called _Coulomb force_\n",
    "- Electromagnetic can be +ve and -ve (Attractive and repulsive)\n",
    "    - (+ Attract -)\n",
    "    - (- Attract +)\n",
    "    - (+ Repel +)\n",
    "    - (- Repel -)\n",
    "\n",
    "- Ordinary matter is composed of ___electrons, protons and neutrons___"
   ]
  },
  {
   "cell_type": "markdown",
   "id": "797c0972",
   "metadata": {},
   "source": [
    "__(a) Forces between Two Surfaces in Contact__\n",
    "- When we put two bodies in contact with each other, the atoms at the two surfaces come close to each other.\n",
    "- The forces between the two bodies in contact may have a component parallel to the surface of contact. This component is called _friction_.\n"
   ]
  },
  {
   "cell_type": "markdown",
   "id": "c1f80d2c",
   "metadata": {},
   "source": [
    "__(b) Tension in a String or a Rope__"
   ]
  },
  {
   "cell_type": "markdown",
   "id": "a480ebaa",
   "metadata": {},
   "source": [
    "__(c) Force due to Spring__"
   ]
  }
 ],
 "metadata": {
  "language_info": {
   "name": "python"
  }
 },
 "nbformat": 4,
 "nbformat_minor": 5
}
