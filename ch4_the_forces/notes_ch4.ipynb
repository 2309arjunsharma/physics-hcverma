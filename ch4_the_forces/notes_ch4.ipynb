{
 "cells": [
  {
   "cell_type": "markdown",
   "id": "d31836de",
   "metadata": {},
   "source": [
    "# __CHAPTER-4 THE FORCES__"
   ]
  },
  {
   "cell_type": "markdown",
   "id": "19eb0ccd",
   "metadata": {},
   "source": [
    "## 4.1 INTRODUCTION"
   ]
  },
  {
   "cell_type": "markdown",
   "id": "f64d2644",
   "metadata": {},
   "source": [
    "- When you push or pull some object you exert force on it\n",
    "- If you push a body, you exert a force away from yourself; when you pull, you exert a force toward yourself.\n",
    "- When you hold a heavy block in your hand, you exert a large force; when you hold a light block in your hand, you exert a small force\n",
    "- The SI unit for measuring the force is called _newton_.\n",
    "- Approx. it is the force needed to hold a body of mass 102g near earth's surface."
   ]
  }
 ],
 "metadata": {
  "language_info": {
   "name": "python"
  }
 },
 "nbformat": 4,
 "nbformat_minor": 5
}
