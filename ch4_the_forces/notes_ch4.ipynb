{
 "cells": [
  {
   "cell_type": "markdown",
   "id": "d31836de",
   "metadata": {},
   "source": [
    "# __CHAPTER-4 THE FORCES__"
   ]
  },
  {
   "cell_type": "markdown",
   "id": "19eb0ccd",
   "metadata": {},
   "source": [
    "## 4.1 INTRODUCTION"
   ]
  },
  {
   "cell_type": "markdown",
   "id": "f64d2644",
   "metadata": {},
   "source": [
    "- When you push or pull some object you exert force on it\n",
    "- If you push a body, you exert a force away from yourself; when you pull, you exert a force toward yourself.\n",
    "- When you hold a heavy block in your hand, you exert a large force; when you hold a light block in your hand, you exert a small force\n",
    "- The SI unit for measuring the force is called _newton_.\n",
    "- Approx. it is the force needed to hold a body of mass 102g near earth's surface.\n",
    "- Force is an interaction between two objects.\n",
    "- Force is a vector quantity. It has magnitude as well as direction.\n",
    "- If a body A exerts a force on B, the body B also exerts a force on A."
   ]
  },
  {
   "cell_type": "markdown",
   "id": "12237447",
   "metadata": {},
   "source": [
    "__Newton's Third Law of Motion__\n",
    "- _If a body A exerts a force F on another body B, then B exerts a force -F on A, the two forces acting along the line joining the bodies_\n",
    "- The two forces F and -F connected by Newton's third law are called _action-reaction pair._"
   ]
  },
  {
   "cell_type": "markdown",
   "id": "3680ca89",
   "metadata": {},
   "source": [
    "- Various types of force are\n",
    "    - (a) Gravitional\n",
    "    - (b) Electromagnetic\n",
    "    - (c) Nuclear\n",
    "    - (d) Weak\n"
   ]
  },
  {
   "cell_type": "markdown",
   "id": "5133b601",
   "metadata": {},
   "source": [
    "## 4.2 GRAVITIONAL FORCE\n",
    "- Any two bodies attract each other by virtue of their masses\n",
    "- The force of attraction between masses is ___F = G(m₁m₂/r²)___"
   ]
  }
 ],
 "metadata": {
  "language_info": {
   "name": "python"
  }
 },
 "nbformat": 4,
 "nbformat_minor": 5
}
