{
 "cells": [
  {
   "cell_type": "markdown",
   "id": "6061e412",
   "metadata": {},
   "source": [
    "# __CH-6 SHORT ANS QUESTIONS__"
   ]
  },
  {
   "cell_type": "markdown",
   "id": "95ab32c7",
   "metadata": {},
   "source": [
    "__Q1__"
   ]
  },
  {
   "cell_type": "markdown",
   "id": "4827ef59",
   "metadata": {},
   "source": [
    "- Most surfaces have µ < 1.\n",
    "- However, in ___Silicon Rubber___, µ > 1.\n",
    "- Not necessary"
   ]
  },
  {
   "cell_type": "markdown",
   "id": "e96b8b52",
   "metadata": {},
   "source": [
    "__Q2__"
   ]
  },
  {
   "cell_type": "markdown",
   "id": "191e065d",
   "metadata": {},
   "source": [
    "___Case 1___\n",
    "- N = mg\n",
    "- f = µN = µmg\n",
    "\n",
    "___Case 2___\n",
    "- N = mg + Fcosθ\n",
    "- F = µN = µ(mg + Fcosθ)\n",
    "\n",
    "___Conclusion___\n",
    "- F > f\n",
    "- More friction from top\n",
    "- Much better to push from behind\n"
   ]
  },
  {
   "cell_type": "markdown",
   "id": "3ef9226d",
   "metadata": {},
   "source": [
    "__Q3__"
   ]
  },
  {
   "cell_type": "markdown",
   "id": "be134f99",
   "metadata": {},
   "source": [
    "- a(avg) = 0\n",
    "- F(avg) = ma(avg) = 0\n",
    "- f(avg) = 0 \n",
    "- Average friction force is 0"
   ]
  },
  {
   "cell_type": "markdown",
   "id": "07833f4c",
   "metadata": {},
   "source": [
    "__Q4__\n",
    "- N = mg\n",
    "- μ is very less \n",
    "- f is also very less"
   ]
  },
  {
   "cell_type": "markdown",
   "id": "56c17016",
   "metadata": {},
   "source": [
    "__Q5__"
   ]
  },
  {
   "cell_type": "markdown",
   "id": "12fe7bd2",
   "metadata": {},
   "source": [
    "- By applying more petrol, it will only spin the wheels, not the car.\n",
    "- No, we cannot accelerate car without friction\n",
    "- Surface is frictionless. f = 0\n",
    "- No, we cannot stop a car on a frictionless surface by applying brakes"
   ]
  },
  {
   "cell_type": "markdown",
   "id": "aeec8ad8",
   "metadata": {},
   "source": [
    "__Q6__\n",
    "- f = μN\n",
    "- f = μmg\n",
    "- f' = μ(m'g + Mg)\n",
    "- M >>> m\n",
    "- f' >> f\n",
    "- Here, due to weight of the door, N' between floor and block increases due to which friction between block and floor increases."
   ]
  },
  {
   "cell_type": "markdown",
   "id": "ca6940e7",
   "metadata": {},
   "source": [
    "__Q7__\n",
    "\n",
    "(a)\n",
    "- here, μ should be small, f b/w card and coin will be small.\n",
    "- There will be relative motion b/w card and coin\n",
    "- And card will go further without taking the coin"
   ]
  },
  {
   "cell_type": "markdown",
   "id": "c4025f20",
   "metadata": {},
   "source": [
    "(b)\n",
    "- f = μmg = ma\n",
    "- a = μg\n",
    "- Independent mass"
   ]
  },
  {
   "cell_type": "markdown",
   "id": "8f45e0ad",
   "metadata": {},
   "source": [
    "__Q8__"
   ]
  },
  {
   "cell_type": "markdown",
   "id": "c139afa3",
   "metadata": {},
   "source": [
    "__Q9__"
   ]
  },
  {
   "cell_type": "markdown",
   "id": "3b76907e",
   "metadata": {},
   "source": [
    "__Q10__"
   ]
  },
  {
   "cell_type": "markdown",
   "id": "4fda44d8",
   "metadata": {},
   "source": [
    "__Q11__"
   ]
  }
 ],
 "metadata": {
  "language_info": {
   "name": "python"
  }
 },
 "nbformat": 4,
 "nbformat_minor": 5
}
