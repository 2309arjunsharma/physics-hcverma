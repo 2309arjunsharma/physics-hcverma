{
 "cells": [
  {
   "cell_type": "markdown",
   "id": "6061e412",
   "metadata": {},
   "source": [
    "# __CH-6 SHORT ANS QUESTIONS__"
   ]
  },
  {
   "cell_type": "markdown",
   "id": "95ab32c7",
   "metadata": {},
   "source": [
    "__Q1__"
   ]
  },
  {
   "cell_type": "markdown",
   "id": "4827ef59",
   "metadata": {},
   "source": [
    "- Most surfaces have µ < 1.\n",
    "- However, in ___Silicon Rubber___, µ > 1.\n",
    "- Not necessary"
   ]
  },
  {
   "cell_type": "markdown",
   "id": "e96b8b52",
   "metadata": {},
   "source": [
    "__Q2__"
   ]
  },
  {
   "cell_type": "markdown",
   "id": "191e065d",
   "metadata": {},
   "source": [
    "___Case 1___\n",
    "- N = mg\n",
    "- f = µN = µmg\n",
    "\n",
    "___Case 2___\n",
    "- N = mg + Fcosθ\n",
    "- F = µN = µ(mg + Fcosθ)\n",
    "\n",
    "___Conclusion___\n",
    "- F > f\n",
    "- More friction from top\n",
    "- Much better to push from behind\n"
   ]
  },
  {
   "cell_type": "markdown",
   "id": "3ef9226d",
   "metadata": {},
   "source": [
    "__Q3__"
   ]
  },
  {
   "cell_type": "markdown",
   "id": "be134f99",
   "metadata": {},
   "source": [
    "- a(avg) = 0\n",
    "- F(avg) = ma(avg) = 0\n",
    "- f(avg) = 0 \n",
    "- Average friction force is 0"
   ]
  },
  {
   "cell_type": "markdown",
   "id": "07833f4c",
   "metadata": {},
   "source": [
    "__Q4__\n",
    "- N = mg\n",
    "- μ is very less \n",
    "- f is also very less"
   ]
  },
  {
   "cell_type": "markdown",
   "id": "56c17016",
   "metadata": {},
   "source": [
    "__Q5__"
   ]
  }
 ],
 "metadata": {
  "language_info": {
   "name": "python"
  }
 },
 "nbformat": 4,
 "nbformat_minor": 5
}
