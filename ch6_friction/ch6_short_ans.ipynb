{
 "cells": [
  {
   "cell_type": "markdown",
   "id": "6061e412",
   "metadata": {},
   "source": [
    "# __CH-6 SHORT ANS QUESTIONS__"
   ]
  },
  {
   "cell_type": "markdown",
   "id": "95ab32c7",
   "metadata": {},
   "source": [
    "__Q1__"
   ]
  },
  {
   "cell_type": "markdown",
   "id": "4827ef59",
   "metadata": {},
   "source": [
    "- Most surfaces have µ < 1.\n",
    "- However, in ___Silicon Rubber___, µ > 1.\n",
    "- Not necessary"
   ]
  },
  {
   "cell_type": "markdown",
   "id": "e96b8b52",
   "metadata": {},
   "source": [
    "__Q2__"
   ]
  },
  {
   "cell_type": "markdown",
   "id": "191e065d",
   "metadata": {},
   "source": [
    "___Case 1___\n",
    "- N = mg\n",
    "- f = µN = µmg\n",
    "\n",
    "___Case 2___\n",
    "- N = mg + Fcosθ\n",
    "- F = µN = µ(mg + Fcosθ)\n",
    "\n",
    "___Conclusion___\n",
    "- F > f\n",
    "- More friction from top\n",
    "- Much better to push from behind\n"
   ]
  }
 ],
 "metadata": {
  "language_info": {
   "name": "python"
  }
 },
 "nbformat": 4,
 "nbformat_minor": 5
}
