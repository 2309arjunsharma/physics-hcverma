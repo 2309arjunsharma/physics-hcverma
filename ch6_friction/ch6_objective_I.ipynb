{
 "cells": [
  {
   "cell_type": "markdown",
   "id": "c354db7f",
   "metadata": {},
   "source": [
    "# __OBJECTIVE I__"
   ]
  },
  {
   "cell_type": "markdown",
   "id": "26349348",
   "metadata": {},
   "source": [
    "__Q1__\n",
    "- (b)  Decrease"
   ]
  },
  {
   "cell_type": "markdown",
   "id": "4af17362",
   "metadata": {},
   "source": [
    "__Q2__\n",
    "- (b) smaller friction"
   ]
  },
  {
   "cell_type": "markdown",
   "id": "e03876b7",
   "metadata": {},
   "source": [
    "__Q3__\n",
    "- (c) M <= F <= Mg √(1 + μ²)"
   ]
  },
  {
   "cell_type": "markdown",
   "id": "016e0cd0",
   "metadata": {},
   "source": [
    "__Q4__\n",
    "- (d) > 500N for time Δt1 and Δt3 and 500 N for Δt2"
   ]
  }
 ],
 "metadata": {
  "language_info": {
   "name": "python"
  }
 },
 "nbformat": 4,
 "nbformat_minor": 5
}
