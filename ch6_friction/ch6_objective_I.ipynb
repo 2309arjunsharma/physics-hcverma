{
 "cells": [
  {
   "cell_type": "markdown",
   "id": "c354db7f",
   "metadata": {},
   "source": [
    "# __OBJECTIVE I__"
   ]
  },
  {
   "cell_type": "markdown",
   "id": "26349348",
   "metadata": {},
   "source": [
    "__Q1__\n",
    "- (b)  Decrease"
   ]
  },
  {
   "cell_type": "markdown",
   "id": "4af17362",
   "metadata": {},
   "source": [
    "__Q2__\n",
    "- (b) smaller friction"
   ]
  },
  {
   "cell_type": "markdown",
   "id": "e03876b7",
   "metadata": {},
   "source": [
    "__Q3__\n",
    "- (c) M <= F <= Mg √(1 + μ²)"
   ]
  },
  {
   "cell_type": "markdown",
   "id": "016e0cd0",
   "metadata": {},
   "source": [
    "__Q4__\n",
    "- (d) > 500N for time Δt1 and Δt3 and 500 N for Δt2"
   ]
  },
  {
   "cell_type": "markdown",
   "id": "fd4b6a61",
   "metadata": {},
   "source": [
    "__Q5__\n",
    "- (d) The system cannot remain in equilibrum"
   ]
  },
  {
   "cell_type": "markdown",
   "id": "aff05e3d",
   "metadata": {},
   "source": [
    "__Q6__\n",
    "- (a) Is upward"
   ]
  },
  {
   "cell_type": "markdown",
   "id": "4d6ebecf",
   "metadata": {},
   "source": [
    "__Q7__\n",
    "- (c) is same for both cars"
   ]
  },
  {
   "cell_type": "markdown",
   "id": "63b3e97a",
   "metadata": {},
   "source": [
    "__Q8__\n",
    "- (b) Apply the brakes hard enough to just prevent slipping"
   ]
  },
  {
   "cell_type": "markdown",
   "id": "480f5c0e",
   "metadata": {},
   "source": [
    "__Q9__\n",
    "- (d) all three are possible"
   ]
  },
  {
   "cell_type": "markdown",
   "id": "f9d8f752",
   "metadata": {},
   "source": [
    "__Q10__\n",
    "- (a) μ < μ', M < M'"
   ]
  }
 ],
 "metadata": {
  "language_info": {
   "name": "python"
  }
 },
 "nbformat": 4,
 "nbformat_minor": 5
}
