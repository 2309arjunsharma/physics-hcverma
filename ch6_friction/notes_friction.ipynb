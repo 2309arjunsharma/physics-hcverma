{
 "cells": [
  {
   "cell_type": "markdown",
   "id": "8dba1767",
   "metadata": {},
   "source": [
    "# __CH-6 FRICTION__"
   ]
  },
  {
   "cell_type": "markdown",
   "id": "3e2b94af",
   "metadata": {},
   "source": [
    "### 6.1 FRICTION  AS THE COMPONENT OF CONTACT FORCE"
   ]
  },
  {
   "cell_type": "markdown",
   "id": "23f22a77",
   "metadata": {},
   "source": [
    "- If we slide or try to slide a body over a surface, the motion is resisted by a bonding between the body and the surface. This resistance is represented by a single force and is called friction force.\n",
    "- The force of friction is parallel to the surface and opposite to the direction of intended motion.\n",
    "\n",
    "- ___due to contact___ - \n",
    "\n",
    "    1. Normal reaction [Perpendicular to surface]\n",
    "\n",
    "    2. Friction [Parallel to surface]\n",
    "\n",
    "- ___Types -___ \n",
    "\n",
    "    1. __Kinetic friction__ - When two solid bodies slip over each other.\n",
    "\n",
    "    2. __Static friction__ - When two solid bodies do not slip over each other.\n",
    "\n",
    "- Friction can operate between a given pair of solids, between solid and fluid or between pair of fluids\n",
    "\n",
    "- Frictional force exerted by fluids is called __viscous force/ fluid friction/ drag__"
   ]
  },
  {
   "cell_type": "markdown",
   "id": "a34e8e71",
   "metadata": {},
   "source": [
    "__Types of friction__\n",
    "\n",
    "1. Dry friction - \n",
    "    1. Static Friction\n",
    "    2. Limiting Friction\n",
    "    3. Kinetic Friction\n",
    "        - Sliding Friction\n",
    "        - Rolling Friction\n",
    "\n",
    "2. Fluid Friction (Liquid/ Air)\n",
    "\n",
    "3. Internal Friction\n",
    "\n",
    "__Causes of Friction__\n",
    "- Rough surface have more interlocking of irregularities, having more friction.\n",
    "- Smooth surface have less friction\n",
    "- Greater the mass, greater will be the friction. (The force with which object pushes the surface)"
   ]
  },
  {
   "cell_type": "markdown",
   "id": "ddc6d050",
   "metadata": {},
   "source": [
    "### 6.2 KINETIC FRICTION\n",
    "\n",
    "- If body is in relative motion, the friction opposing its relative motion is called kinetic friction.\n",
    "- Its value always slightly less than limiting friction.\n",
    "- It depends on N\n",
    "- Its value doesn't depend on type of motion like accelerated motion, retarded motion or moving with constant velocity because it is constant force\n",
    "- Its numerical value is fK = µKn"
   ]
  },
  {
   "cell_type": "markdown",
   "id": "3c7e655f",
   "metadata": {},
   "source": [
    "__(a) Direction of Kinetic Friction__\n",
    "\n",
    "- The kinetic friction on a body A slipping against another body B is opposite to the velocity of A with respect to B\n",
    "\n",
    "__(b) Magnitude of Kinetic friction__\n",
    "\n",
    "- The magnitude of the kinetic friction is proportional to the normal force acting between the two bodies"
   ]
  },
  {
   "cell_type": "markdown",
   "id": "0455f798",
   "metadata": {},
   "source": [
    "### 6.3 STATIC FRICTION\n",
    "\n",
    "- This frictional force is effective before relative motion begins between two surfaces in contact \n",
    "- It is Self adjusting in nature (upto a certain limit)\n",
    "- Its numerical value is equal to the external force applied \n",
    "- Static friction has a limit called limiting friction (fl/ fmax = µsn)\n",
    "- Its max value is called limiting friction fL\n",
    "- If we apply force > fl then body will move"
   ]
  },
  {
   "cell_type": "markdown",
   "id": "d5d33118",
   "metadata": {},
   "source": [
    "__Limiting friction__\n",
    "\n",
    "- Magnitude of the limiting force between bodies in contact is directly proportional to the normal reaction (N) between them. \n",
    "- fL ∝ N\n",
    "- Direction is opposite to the direction in which body is on verge of moving\n",
    "- It depends on the nature of material of the surface in contact.\n",
    "- Its value is more than other type of friction force"
   ]
  },
  {
   "cell_type": "markdown",
   "id": "c8960d7f",
   "metadata": {},
   "source": [
    "__Finding direction of Static Friction__\n",
    "- The direction of static friction on a body is such that the total force acting on it keeps it at rest with respect to the body in contact."
   ]
  },
  {
   "cell_type": "markdown",
   "id": "eebe7eb2",
   "metadata": {},
   "source": [
    "### 6.4 LAWS OF FRICTION\n",
    "\n",
    "1. If the bodies slip over each other, force of friction is given by\n",
    "    - fk = µkN\n",
    "2. The direction of kinetic friction on a body is opposite to the velovity of this body with repect to the body applying force of friction.\n",
    "3. If the bodies do not slip over each other, force of friction is given by \n",
    "    - fs <= µsN\n",
    "4. The frictional force fk or fs does not depend on the area of contact as long as the normal force N is same"
   ]
  },
  {
   "cell_type": "markdown",
   "id": "8d332845",
   "metadata": {},
   "source": [
    "### 6.5 UNDERSTANDING FRICTION AT ATOMIC LEVEL\n",
    "\n",
    "- A force is needed to start the motion or to maintain the motion."
   ]
  }
 ],
 "metadata": {
  "language_info": {
   "name": "python"
  }
 },
 "nbformat": 4,
 "nbformat_minor": 5
}
