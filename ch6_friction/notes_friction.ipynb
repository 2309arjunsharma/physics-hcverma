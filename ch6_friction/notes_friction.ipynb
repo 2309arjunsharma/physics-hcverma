{
 "cells": [
  {
   "cell_type": "markdown",
   "id": "8dba1767",
   "metadata": {},
   "source": [
    "# __CH-6 FRICTION__"
   ]
  },
  {
   "cell_type": "markdown",
   "id": "3e2b94af",
   "metadata": {},
   "source": [
    "### 6.1 FRICTION  AS THE COMPONENT OF CONTACT FORCE"
   ]
  },
  {
   "cell_type": "markdown",
   "id": "23f22a77",
   "metadata": {},
   "source": [
    "- If we slide or try to slide a body over a surface, the motion is resisted by a bonding between the body and the surface. This resistance is represented by a single force and is called friction force.\n",
    "- The force of friction is parallel to the surface and opposite to the direction of intended motion.\n",
    "\n",
    "- ___due to contact___ - \n",
    "\n",
    "    1. Normal reaction [Perpendicular to surface]\n",
    "\n",
    "    2. Friction [Parallel to surface]\n",
    "\n",
    "- ___Types -___ \n",
    "\n",
    "    1. __Kinetic friction__ - When two solid bodies slip over each other.\n",
    "\n",
    "    2. __Static friction__ - When two solid bodies do not slip over each other."
   ]
  }
 ],
 "metadata": {
  "language_info": {
   "name": "python"
  }
 },
 "nbformat": 4,
 "nbformat_minor": 5
}
