{
 "cells": [
  {
   "cell_type": "markdown",
   "id": "8dba1767",
   "metadata": {},
   "source": [
    "# __CH-6 FRICTION__"
   ]
  },
  {
   "cell_type": "markdown",
   "id": "3e2b94af",
   "metadata": {},
   "source": [
    "### 6.1 FRICTION  AS THE COMPONENT OF CONTACT FORCE"
   ]
  },
  {
   "cell_type": "markdown",
   "id": "23f22a77",
   "metadata": {},
   "source": [
    "- If we slide or try to slide a body over a surface, the motion is resisted by a bonding between the body and the surface. This resistance is represented by a single force and is called friction force.\n",
    "- The force of friction is parallel to the surface and opposite to the direction of intended motion.\n",
    "\n",
    "- ___due to contact___ - \n",
    "\n",
    "    1. Normal reaction [Perpendicular to surface]\n",
    "\n",
    "    2. Friction [Parallel to surface]\n",
    "\n",
    "- ___Types -___ \n",
    "\n",
    "    1. __Kinetic friction__ - When two solid bodies slip over each other.\n",
    "\n",
    "    2. __Static friction__ - When two solid bodies do not slip over each other.\n",
    "\n",
    "- Friction can operate between a given pair of solids, between solid and fluid or between pair of fluids\n",
    "\n",
    "- Frictional force exerted by fluids is called __viscous force/ fluid friction/ drag__"
   ]
  },
  {
   "cell_type": "markdown",
   "id": "a34e8e71",
   "metadata": {},
   "source": [
    "__Types of friction__\n",
    "\n",
    "1. Dry friction - \n",
    "    1. Static Friction\n",
    "    2. Limiting Friction\n",
    "    3. Kinetic Friction\n",
    "        - Sliding Friction\n",
    "        - Rolling Friction\n",
    "\n",
    "2. Fluid Friction (Liquid/ Air)\n",
    "\n",
    "3. Internal Friction"
   ]
  },
  {
   "cell_type": "markdown",
   "id": "0455f798",
   "metadata": {},
   "source": [
    "### 6.3 STATIC FRICTION\n",
    "\n",
    "- This frictional force is effective before relative motion begins between two surfaces in contact \n",
    "- It is Self adjusting in nature (upto a certain limit)\n",
    "- Its numerical value is equal to the external force applied \n",
    "- Static friction has a limit called limiting friction (fl/ fmax = µsn)\n",
    "- Its max value is called limiting friction fL\n",
    "- If we apply force > fl then body will move"
   ]
  },
  {
   "cell_type": "markdown",
   "id": "d5d33118",
   "metadata": {},
   "source": [
    "__Limiting friction__\n",
    "\n",
    "- Magnitude of the limiting force between bodies in contact is directly proportional to the normal reaction (N) between them. \n",
    "- fL ∝ N\n",
    "- Direction is opposite to the direction in which body is on verge of moving\n",
    "- It depends on the nature of material of the surface in contact.\n",
    "- Its value is more than other type of friction force"
   ]
  }
 ],
 "metadata": {
  "language_info": {
   "name": "python"
  }
 },
 "nbformat": 4,
 "nbformat_minor": 5
}
