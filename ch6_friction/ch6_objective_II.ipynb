{
 "cells": [
  {
   "cell_type": "markdown",
   "id": "eff5d585",
   "metadata": {},
   "source": [
    "# __OBJECTIVE II__"
   ]
  },
  {
   "cell_type": "markdown",
   "id": "a5626351",
   "metadata": {},
   "source": [
    "__Q1__\n",
    "- (a), (b), (d)"
   ]
  },
  {
   "cell_type": "markdown",
   "id": "ce47a4d1",
   "metadata": {},
   "source": [
    "__Q2__\n",
    "- (b), (d)"
   ]
  },
  {
   "cell_type": "markdown",
   "id": "e0f99f1a",
   "metadata": {},
   "source": [
    "__Q3__\n",
    "- (b), (c), (d)"
   ]
  },
  {
   "cell_type": "markdown",
   "id": "2ba37061",
   "metadata": {},
   "source": [
    "__Q4__\n",
    "- (c), (d)"
   ]
  },
  {
   "cell_type": "markdown",
   "id": "ddd2ec8d",
   "metadata": {},
   "source": [
    "__Q5__\n",
    "- (a), (b)"
   ]
  }
 ],
 "metadata": {
  "language_info": {
   "name": "python"
  }
 },
 "nbformat": 4,
 "nbformat_minor": 5
}
