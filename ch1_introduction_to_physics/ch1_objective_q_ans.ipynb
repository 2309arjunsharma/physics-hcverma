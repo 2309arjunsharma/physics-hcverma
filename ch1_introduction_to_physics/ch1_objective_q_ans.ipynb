{
 "cells": [
  {
   "cell_type": "markdown",
   "id": "1cee670a",
   "metadata": {},
   "source": [
    "## __Objective I__\n",
    "\n",
    "__1. Which of the following sets cannot enter into the list of fundamental quantities in any system of units?__\n",
    "\n",
    "Ans. (b) length, time and velocity"
   ]
  },
  {
   "cell_type": "markdown",
   "id": "516a57cf",
   "metadata": {},
   "source": [
    "__2. A physical quantity is measured and the result is expressed as nu where u is the unit used and n is the numerical value. If the result is expressed in various units then__\n",
    "\n",
    "Ans. (d) n ∝ 1/u "
   ]
  },
  {
   "cell_type": "markdown",
   "id": "fc325697",
   "metadata": {},
   "source": [
    "__3. Suppose a quantity x can be dimensionally represented in terms of M, L and T, i.e., [x] = MaLbTc. The quantity mass__\n",
    "\n",
    "Ans. (d) may be represented in terms of L, T and x if a ≠ 0"
   ]
  },
  {
   "cell_type": "markdown",
   "id": "41fe5255",
   "metadata": {},
   "source": [
    "__4. A dimensionless quantity__\n",
    "\n",
    "Ans. (a) never has a unit"
   ]
  },
  {
   "cell_type": "markdown",
   "id": "079ad0d8",
   "metadata": {},
   "source": [
    "__5. A unitless quantity__\n",
    "\n",
    "Ans. (a) never has a nonzero dimension"
   ]
  },
  {
   "cell_type": "markdown",
   "id": "33550a01",
   "metadata": {},
   "source": [
    "__6. dx/√2ax - x² = aṇ.sin-¹[x/a - 1].__\n",
    "\n",
    "__The value of n is__\n",
    "\n",
    "__(a) 0 (b) -1 (c) 1 (d) none of these__\n",
    "\n",
    "__You may use dimensional analysis to solve the problem__\n",
    "\n",
    "Ans. (a) 0 "
   ]
  },
  {
   "cell_type": "markdown",
   "id": "8a594547",
   "metadata": {},
   "source": [
    "## __Objective II__\n",
    "\n",
    "__1. The dimensions ML-¹T-² may correspond to__\n",
    "\n",
    "Ans. (c) pressure\n",
    "\n",
    "__2. Choose the correct statement(s)__\n",
    "\n",
    "Ans. (a) A dimensionally correct equation may be correct\n",
    "\n",
    "(b) A dimensionally correct equation may be incorrect\n",
    "\n",
    "(d) A dimensionally incorrect equation may be incorrect"
   ]
  },
  {
   "cell_type": "markdown",
   "id": "e280e41b",
   "metadata": {},
   "source": [
    "__3. Choose the correct statement(s)__\n",
    "\n",
    "Ans. (a) All quantities may be represented dimensionally in terms of the base quantities.\n",
    "\n",
    "(b) A base quantity cannot be represented dimensionally in terms of other base quantites.\n",
    "\n",
    "(c) The dimension of a base quantity is zero in other base quantities."
   ]
  }
 ],
 "metadata": {
  "language_info": {
   "name": "python"
  }
 },
 "nbformat": 4,
 "nbformat_minor": 5
}
