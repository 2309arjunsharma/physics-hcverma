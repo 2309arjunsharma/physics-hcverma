{
 "cells": [
  {
   "cell_type": "markdown",
   "id": "607ffad4",
   "metadata": {},
   "source": [
    "## Questions for short answers\n",
    "__Q1. The metre is defined as the distance travelled by light in 1/299,792,458 second. Why did people choose some easier number such as 1/300,000,00nd? Why not 1 second.__\n",
    "\n",
    "Ans. Since, distance= speed X time\n",
    "\n",
    "Speed of light= 299,792,458 m/s\n",
    "=300,000,000 =3 X 10⁸ m/s\n",
    "\n",
    "distance= 299,792,458 X 1/299,792,458 sec\n",
    "= 1 m\n",
    "\n",
    "1/300,000,000 sec is not actual time."
   ]
  },
  {
   "cell_type": "markdown",
   "id": "0373da7a",
   "metadata": {},
   "source": [
    "__Q2. What are the dimensions of:\n",
    "a. volume of a cube of edge a,\n",
    "b. volume of a sphere of radius a\n",
    "c. The ratio of the volume of a cube of edge a to the volume of a sphere__"
   ]
  }
 ],
 "metadata": {
  "language_info": {
   "name": "python"
  }
 },
 "nbformat": 4,
 "nbformat_minor": 5
}
