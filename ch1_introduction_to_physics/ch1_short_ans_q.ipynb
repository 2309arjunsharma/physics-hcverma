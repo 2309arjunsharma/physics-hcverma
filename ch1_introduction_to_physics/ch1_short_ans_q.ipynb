{
 "cells": [
  {
   "cell_type": "markdown",
   "id": "607ffad4",
   "metadata": {},
   "source": [
    "## Questions for short answers\n",
    "__Q1. The metre is defined as the distance travelled by light in 1/299,792,458 second. Why did people choose some easier number such as 1/300,000,00nd? Why not 1 second.__\n",
    "\n",
    "Ans. Since, distance= speed X time\n",
    "\n",
    "Speed of light= 299,792,458 m/s\n",
    "=300,000,000 =3 X 10⁸ m/s\n",
    "\n",
    "distance= 299,792,458 m/s X 1/299,792,458 sec\n",
    "= 1 m\n",
    "\n",
    "1/300,000,000 sec is not actual time."
   ]
  },
  {
   "cell_type": "markdown",
   "id": "0373da7a",
   "metadata": {},
   "source": [
    "__Q2. What are the dimensions of:\n",
    "a. volume of a cube of edge a,\n",
    "b. volume of a sphere of radius a\n",
    "c. The ratio of the volume of a cube of edge a to the volume of a sphere a?__\n",
    "\n",
    "Ans. a. Volume = Area X Length\n",
    "\n",
    "Volume = (Length)³\n",
    "\n",
    "Length is a fundamental quantity = L\n",
    "\n",
    "V = [L³],  Dimension=3\n",
    "\n",
    "b. Volume = 4/3πr³\n",
    "\n",
    "4/3π is dimensionless, so, dimension is 3 (r³)\n",
    "\n",
    "c. Ratio = a³/4/3πa³\n",
    "\n",
    "3a³/4πa³ =3:4π\n",
    "\n",
    "It is Dimensionless. So dimension = 0 "
   ]
  },
  {
   "cell_type": "markdown",
   "id": "ef4afc13",
   "metadata": {},
   "source": [
    "__Q3. Suppose you are told that the linear size of everything in the universe has been doubled overnight.Can youtest this statement by measuring sizes with a metre stick? Can you test it by using the fact that the speed of light is a universal constant and has not changed? What will happen if all the clocks in the unverse also start running at half the speed?__\n",
    "\n",
    "Ans. No, we cannot test this with meter stick as size of meter stick will also get doubled.\n",
    "\n",
    "Speed of light = 299792458 m/s. Yes, we can test with speed of light. It is a universal constant and does not change.\n",
    "\n",
    "We cannot test the above statement if time halfs. Time is the most powerful thing"
   ]
  },
  {
   "cell_type": "markdown",
   "id": "055bd302",
   "metadata": {},
   "source": [
    "__Q4. If all the terms in an equation have same units, is it necessary that they have same dimensions? If all the the terms in the equation have same dimensions, is it necessary that they have same units?__\n",
    "\n",
    "Ans. ___Same unit → Same dimension___\n",
    "\n",
    "Work - J, energy - J = ML²T-² = 1/2ml² or mgh\n",
    "\n",
    "Therefore, yes same unit terms can have same dimensions.\n",
    "\n",
    "___Same dimension → same unit___\n",
    "\n",
    "energy density = energy/volume = ML²T-²/L³ = ML-¹T-²\n",
    "\n",
    "Pressure = F/A = MLT-²/L² = ML-¹T-²\n",
    "\n",
    "energy density = energy/volume = J/m³ = Nm/m³ = N/m²\n",
    "\n",
    "Pressure = N/m²\n",
    "\n",
    "Yes, same dimensional terms can have same units.\n"
   ]
  },
  {
   "cell_type": "markdown",
   "id": "ab02ee4b",
   "metadata": {},
   "source": [
    "__Q5. If two quantities have same dimensions, do they represent same physical content?__\n",
    "\n",
    "Ans. Work, energy, z(torque) = ML²T-²\n",
    "\n",
    "Frequency = T-¹\n",
    "\n",
    "angular velocity = T-¹\n",
    "\n",
    "Pressure = ML-¹T-²\n",
    " \n",
    "energy density = ML-¹T-²\n",
    "\n",
    "So, No, they do not represent same physical quantities."
   ]
  },
  {
   "cell_type": "markdown",
   "id": "968d4427",
   "metadata": {},
   "source": [
    "__Q6. It is desirable that the standard of units be easily available, invariable, indestructible and easily reproducible. If we use foot of a person as a standard unit of length, which of the above features are present and which are not?__\n",
    "\n",
    "Ans. Foot → easily available → Variable (Not invariable) → Destructible (Indestructible) → Not easily reproducible!! Human foot cannot be reproduced easily."
   ]
  },
  {
   "cell_type": "markdown",
   "id": "99ad6491",
   "metadata": {},
   "source": [
    "__Q7. Suggest a way to measure:__\n",
    "\n",
    "__(a) the thickness of a sheet of paper,__\n",
    "\n",
    "__(b) the distance between the sun and the moon.__\n",
    "\n",
    "Ans.(a) First we will find the weight of this bundle, then divide the height with no. of sheet.\n",
    "\n",
    "thickness of sheet = h/100\n",
    "\n",
    "(b) The distance between sun and moon keeps changing so it is difficult to measure it."
   ]
  },
  {
   "cell_type": "markdown",
   "id": "116b39c8",
   "metadata": {},
   "source": []
  }
 ],
 "metadata": {
  "language_info": {
   "name": "python"
  }
 },
 "nbformat": 4,
 "nbformat_minor": 5
}
