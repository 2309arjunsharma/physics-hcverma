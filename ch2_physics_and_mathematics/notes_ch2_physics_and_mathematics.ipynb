{
 "cells": [
  {
   "cell_type": "markdown",
   "id": "7bf6ca28",
   "metadata": {},
   "source": [
    "## __Chapter-2 PHYSICS AND MATHEMATICS__"
   ]
  },
  {
   "cell_type": "markdown",
   "id": "2708c984",
   "metadata": {},
   "source": [
    "- Mathematics is the language of physics.\n",
    "- It is very related with techniques of algebra, trignometry and geometry as well as vector algebra, differential calculas and integral calculas will be used along with PHYSICS."
   ]
  },
  {
   "cell_type": "markdown",
   "id": "4188270c",
   "metadata": {},
   "source": [
    "## 2.1 VECTORS AND SCALARS\n",
    "\n",
    "- Physical quantities are divided into two categories --\n",
    "    1. ___Scalar___: It has only magnitude. Eg: mass, time, distance (length), temperature, time, work, energy, etc.\n",
    "    2. ___Vector___: It depends on not only magnitude but as well as direction. These can be added according to the triangle rule (or Vector rule of addition). Eg: Force, velocity, displacement, linear momentum, accelaration, magnetic field, electric field, etc.\n",
    "\n",
    "- If a physical quantity has magnitude as well as direction but does not add up according to the triangle rule (or Vector rule of addition), it will not be called a vector quantity, it will be a ___tensor quantity___.\n",
    "\n",
    "- For eg: We say that Current is 10 Ampere in the direction opposite to the flow of electrons. Current of 5A entering at junction from two different directions can be added. If it was Vector, it would have been 5√2A.\n",
    "\n",
    "- Therefore, Electric Current is a tensor quantity.\n",
    "\n",
    "- ___Only Scalars and Tensors can be added, not Vectors___"
   ]
  },
  {
   "cell_type": "markdown",
   "id": "380ef850",
   "metadata": {},
   "source": []
  }
 ],
 "metadata": {
  "language_info": {
   "name": "python"
  }
 },
 "nbformat": 4,
 "nbformat_minor": 5
}
