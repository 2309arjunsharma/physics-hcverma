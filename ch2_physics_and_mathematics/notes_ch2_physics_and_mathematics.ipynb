{
 "cells": [
  {
   "cell_type": "markdown",
   "id": "7bf6ca28",
   "metadata": {},
   "source": [
    "# __Chapter-2 PHYSICS AND MATHEMATICS__"
   ]
  },
  {
   "cell_type": "markdown",
   "id": "2708c984",
   "metadata": {},
   "source": [
    "- Mathematics is the language of physics.\n",
    "- It is very related with techniques of algebra, trignometry and geometry as well as vector algebra, differential calculas and integral calculas will be used along with PHYSICS."
   ]
  },
  {
   "cell_type": "markdown",
   "id": "4188270c",
   "metadata": {},
   "source": [
    "## 2.1 VECTORS AND SCALARS\n",
    "\n",
    "- Physical quantities are divided into two categories --\n",
    "    1. ___Scalar___: \n",
    "        - It has only magnitude.\n",
    "        - Eg: mass, time, distance (length), temperature, time, work, energy, etc.\n",
    "    2. ___Vector___:\n",
    "        - It depends on not only magnitude but as well as direction.\n",
    "        - These can be added according to the triangle rule (or Vector rule of addition).\n",
    "        - Eg: Force, velocity, displacement, linear momentum, accelaration, magnetic field, electric field, etc.\n",
    "\n",
    "- If a physical quantity has magnitude as well as direction but does not add up according to the triangle rule (or Vector rule of addition), it will not be called a vector quantity, it will be a ___tensor quantity___.\n",
    "\n",
    "- For eg: We say that Current is 10 Ampere in the direction opposite to the flow of electrons. Current of 5A entering at junction from two different directions can be added. If it was Vector, it would have been 5√2A.\n",
    "\n",
    "- Therefore, Electric Current is a tensor quantity.\n",
    "\n",
    "- ___Only Scalars and Tensors can be added, not Vectors___"
   ]
  },
  {
   "cell_type": "markdown",
   "id": "380ef850",
   "metadata": {},
   "source": [
    "__Vector Representation__\n",
    "- A vector can be represented in two ways--\n",
    "    1. ___Graphical Method___:\n",
    "        - By an arrow.\n",
    "        - Direction of arrow shows direction.\n",
    "        - Its length represents magnitude\n",
    "        - Eg: ⟶30km/hr means 30 km/hr towards east. v = 30 km/hr\n",
    "        - ⟶A = |⟶A| = Vector quantity\n",
    "        - ^A = Unit vector\n",
    "    2. ___Mathematical method___: By an equation with some stand"
   ]
  },
  {
   "cell_type": "markdown",
   "id": "15e1970a",
   "metadata": {},
   "source": [
    "__TYPES OF VECTORS__\n",
    "1. __Polar Vector__:\n",
    "    - Vectors having starting point (in case of displacement [Shortest distance between initial and final position]) or point of application (in case of force) are polar Vectors\n",
    "2. __Axial Vector__:\n",
    "    - Vectors representing rotational effect and are always along the axis of rotation in accordance with right hand screw rule are axial vectors.\n",
    "    - Axial line- line which is along the axis\n",
    "    - For eg: angular velocity(ω), angular acceleration(a),etc\n",
    "3. __Zero Vector__:\n",
    "    - A vector with zero magnitude is called zero vector.\n",
    "4. __Equal Vector__:\n",
    "    - Two vectors are called equal (or equaivalent) vectors if they have equal magnitude and same sense.\n",
    "5. __Collinear vector__:\n",
    "    - These are those vectors which act along same line, i.e., vectors lying in the same line. Angle between them can be 0° or 180°.\n",
    "6. __Coplanar vector__:\n",
    "    - Three or more vectors are coplanar vectors if they lie in the same plane or are parallel to the same plane.\n",
    "7. __Negative vector__:\n",
    "    - A vector having the same magnitude as that of the given vector but directed in the opposite sense is called negative of the given vector.\n",
    "8. __Unit vector__:\n",
    "    - A vector with magnitude of unity is called unit vector. Unit vector in the direction of a -- ^a = ⟶a/⟶a|\n",
    "    - A unit vector is, Given vector/Magnitude of that vector"
   ]
  },
  {
   "cell_type": "markdown",
   "id": "b14b8b9f",
   "metadata": {},
   "source": [
    "## 2.2 EQUALITY OF VECTORS\n",
    "- Two Vectors (representing two values of the same physical quantity) are called equal if their magnitudes and directions are the same.\n",
    "\n",
    "        "
   ]
  },
  {
   "cell_type": "markdown",
   "id": "04f3ec22",
   "metadata": {},
   "source": [
    "## 2.3 ADDITION OF VECTORS\n",
    "__1. Triangle law of Addition of Two Vectors__\n",
    "- If two non-zero vectors are represented by the two sides of a triangle taken in same order then the resultant is given by the closing side of triangle in opposite order.\n",
    "- Third side/vector = √side₁/vector₁²+side₂/vector₂² \n",
    "- ⟶R = ⟶a+⟶b\n",
    "\n",
    "__2. Parallelogram Law of Addition of Two Vectos__\n",
    "- If two non-zero vectors are represented by the two adjacent sides of a paralelogram then the resultant is given by the diagonal of the parallelogram passing through the point of intersection of the two vectors.\n",
    "- ⟶R = ⟶a+⟶b\n",
    "- R = √[(P + Qcosθ)² + (Qsinθ)²]\n",
    "- ★ R² = √[P² + Q² + 2PQcosθ]\n",
    "- tan α = P/B\n",
    "- tan α = Qsinθ/P + Qcosθ\n",
    "\n",
    "__Important points__\n",
    "- If there are two vectors a₁ and a₂ with equal magnitude, then the resultant will bisect the angle between them.\n",
    "- If we add two different vectors a₁ and a₂ with equal magnitude and the angle between them is 120°,then the resultant will bisect the angle and its magnitude will be equal to the magnitude of each vector.\n",
    "\n",
    "__3. Polygon Law of Vector Addition__\n",
    "- If a number of non-zero vectors are represented by the (n-1) sides of an n-sided polygon then the resultant is given by the closing side or the nth side of the polygon taken in opposite order.\n",
    "\n",
    "__Important points__\n",
    "1. To a vector only a vector of same type can be added and the resultant is a vector of the same type.\n",
    "2. Vector addition is commutative,i.e, P+Q = P+Q\n",
    "3. Vector addition is associative,i.e, P+(Q+R) = (P+Q)+R\n",
    "4. - As R = √(P²+Q²+2PQcosθ)\n",
    "- So R will be maximum when, cosθ = maximum = 1, i.e, θ = 0°\n",
    "- R(max) = P+Q\n",
    "5.  - R will be minimum if, cosθ = minimum = -1, i.e, θ = 180°\n",
    "- Therefore, R(min) = P-Q\n",
    "6. - If vectors P and Q are orthogonal, i.e. θ = 90°\n",
    "- Then, R = √(P²+Q²)\n",
    "- [R = √(P²+Q²+2PQcosθ)]\n",
    "- If P⊥Q = θ = 90° = cosθ = cos90 = 0\n",
    "- R = √(P²+Q²+2PQcosθ) → R = √[P²+Q²+2PQ(0)] → R = √(P²+Q²)\n",
    "7. - ___From the above three points it is evident that the resultant of two vectors can have any value from |P - Q| to |P + Q| depending on the angle between them and the magnitude of resultant decreases as θ increases from 0° to 180°.___\n",
    "- R(max) = P+Q, R(min) = P-Q → R(min) <= R <= R(max), i.e, between θ = 0°, θ = 180°\n",
    "8. ___If three vectors of equal magnitudes makes an angle of 120° with each other then the resultant vector will be 0.___\n",
    "9. Angle between two vectors means smaller of the two angles between two vectors when they are placed tail to tail by displacing either of the vector parallel to itself."
   ]
  },
  {
   "cell_type": "markdown",
   "id": "eeb9a5a4",
   "metadata": {},
   "source": [
    "### Example 2.1\n",
    "__Q. Two vectors having equal magnitudes A make an angle θ with each other. Find the magnitude and direction of the resultant.__\n",
    "\n",
    "___Solution :___ \n",
    "- The magnitude of the resultant will be\n",
    "- B = √[A² + A² + 2AAcosθ]\n",
    "- = √[2A²(1 + cosθ)] = √[2A².2cos²θ)] =√[4A²cos²(θ/2)]\n",
    "- = 2A cosθ/2\n",
    "- The resultant will make an angle α with the first vector where\n",
    "- tanα = A.sinθ/A + A.cosθ = (2A.sinθ.2cosθ/2)/(2A.cos²θ/2) = tanθ/2\n",
    "- or,   α = θ/2\n",
    "- Thus, the resultant of two vectors bisects the angle between them."
   ]
  },
  {
   "cell_type": "markdown",
   "id": "49a880d9",
   "metadata": {},
   "source": [
    "## 2.4 MULTIPLICATION OF A VECTOR BY A NUMBER\n",
    "- Suppose _a___ is vector of magnitude _a___ and _k___ is a number. We define the vector _b=ka_ as a vector of magnitude |_ka_|.\n",
    "- If k is positive, the direction of vector b is same as that of a.\n",
    "- If k is negative, the direction of vector b is opposite as that of a.\n",
    "- Multiplication by (-1) just inverts the direction of the vector.\n",
    "- The vectors a and -a have equal magnitudes but opposite directions."
   ]
  },
  {
   "cell_type": "markdown",
   "id": "f285a6ca",
   "metadata": {},
   "source": [
    "## 2.5 SUBTRACTION OF TWO VECTORS\n",
    "- Subtraction of a vector from a vector is the addition of negative of that vector, i.e,\n",
    "- ___P-Q = P + (-Q)___\n",
    "- In case of subtraction of a vector from a vector\n",
    "- __R = √A²+B²+2ABcos(180-θ)__\n",
    "- __R = √A²+B²-2ABcosθ__"
   ]
  },
  {
   "cell_type": "markdown",
   "id": "40034b7a",
   "metadata": {},
   "source": [
    "### Example 2.2\n",
    "__Q. Two vectors of equal magnitude 5 unit have an angle 60° between them. Find the magnitude of__\n",
    "__(a) the sum of the vectors and__\n",
    "__(b) the difference of the vectors__\n",
    "\n",
    "__Solution :__ \n",
    "- (a) A + B is sum of A and B. Both have a magnitude of 5 unit and the angle between them is 60°. Thus the magnitude of the sum is\n",
    "- A + B = √(5² + 5² + 2 X 5 X 5 cos60°)\n",
    "- = 2 X 5 cos30° = 5√3 unit\n",
    "- \n",
    "- (b) A - B is the sum of A and (-B). As shown in the figure, the angle between A and -B is 120°. The magnitudes of both A and -B is 5 unit. So,\n",
    "- A - B = A + (-B) = √(5² + 5² + 2 X 5 X 5 cos120°)\n",
    "- = 2 X 5 cos60° = 5 unit."
   ]
  },
  {
   "cell_type": "markdown",
   "id": "9d420dca",
   "metadata": {},
   "source": [
    "## 2.6 RESOLUTION OF VECTORS\n",
    "- - The figure shows a vector a = OA in the X-Y plane from origin O. The vector makes an angle α with X-axis and β with Y axis.\n",
    "- - Draw perpendiculars AB and AC from A to X and Y axes respectively.\n",
    "- - The length OB is called projection of OA on X axis. Similarly OC is the projection of OA on Y axis.\n",
    "- - a = OA = OB + OC\n",
    "- - Thus, we have resolved the vector a into two parts, one  along OX and the other along OY.\n",
    "- - The magnitude of the part along OX is OB = a cosα and the magnitude of the part along OY is OC = a cosβ.\n",
    "- - If i,j = unit magnitude of OX,OY respectively, we get\n",
    "- - OB = a cosα i and OC = a cosβ j \n",
    "- - so that                 a = a cosα i\n"
   ]
  },
  {
   "cell_type": "markdown",
   "id": "de87404e",
   "metadata": {},
   "source": [
    "### Example 2.3\n",
    "__Q. A force of 10.5 N acts on a particle along a direction making an angle of 37° with the vertical. Find the component of the force in the vertical direction__\n",
    "\n",
    "__Solution :__ \n",
    "- F = F cosθ = (10.5 N)(cos37°)\n",
    "-   = (10.5 N)4/5 = ___8.40 N___"
   ]
  },
  {
   "cell_type": "markdown",
   "id": "895ac5e3",
   "metadata": {},
   "source": [
    "## 2.7 DOT PRODUCT OR SCALAR PRODUCT OF TWO VECTORS\n",
    "__Scalar (or dot) Product Of Two Vectors__\n",
    "- The scalar product (or dot product) of two vectors is defined as the product of their magnitudes with cosine of the angle between them.\n",
    "- Thus if there are two vectors a and b having angle between them then their scalar product is written as\n",
    "- a.b = |a|.|b| cosθ = ab cosθ\n",
    "- Where a = |a|;\n",
    "- b = |b| and\n",
    "- θ is the angle between a and b\n",
    "\n",
    "__Important products__\n",
    "- It is always scalar, which is positive if angle between the vectors is acute (i.e. θ < 90°) and negative if angle between them is obtuse (i.e. 90° < θ < 180°).\n",
    "\n",
    "- It is commutative A.B = B.A\n",
    "\n",
    "- It is distributive A.(B+C) = A.B + A.C\n",
    "\n",
    "- Scalar product of two vectors will be maximum when cosθ = max = 1, i.e. θ = 0°, i.e. when vectors are parallel. (A.B)Max = AB\n",
    "\n",
    "- Scalar product of two vectors will be zero when cosθ = 0, i.e θ = 90°, i.e vectors are perpendicular (or orthogonal). (A.B) = 0\n",
    "\n",
    "- In case of orthogonal unit vectors i, j and k\n",
    "- i.j = j.k = k.i = 1 X 1 X cos90° = 0\n",
    "\n",
    "- The scalar product of a vector by itself is termed as self dot product and is given by \n",
    "- __A.A = AAcos0° = A²__\n",
    "\n",
    "- In case of unit vector n\n",
    "- __n.n = 1 X 1 X cos0° = 1__\n",
    "- __n.n = i.i = j.j = k.k = 1 X 1 X cos0° = 1__\n",
    "\n",
    "- In terms of components\n",
    "- __A.B = (Axi + Ayj + Azk).(Bxi + Byj + Bzk)__\n",
    "- __A.B = (AxBx + AyBy + AzBz)__"
   ]
  },
  {
   "cell_type": "markdown",
   "id": "d7840935",
   "metadata": {},
   "source": [
    "### Example 2.4\n",
    "__Q. The work done by force F during a displacement r is given by F.r. Suppose a force of 12 N acts on a particle in vertically upward directon and the particle is displaced through 2.0 m in vertically downward direction. Find the work done by the force during this displacement.__\n",
    "\n",
    "__Solution :__ The angle between the force F and the displacement r is 180°. Thus, work done is\n",
    "- W = F.r\n",
    "- = Fr cosθ\n",
    "- = (12 N)(2.0 m)(cos180°)\n",
    "- = -24 N-m = ___-24 J___"
   ]
  },
  {
   "cell_type": "markdown",
   "id": "67e309f2",
   "metadata": {},
   "source": [
    "## Cross Product or Vector Product of Two Vectors\n",
    "- The vector product of two vectors is defined as a vector having magnitude equal to the product of their magnitudes with the sine of angle between them, and its direction is perpendicular to the plane containing both the vectors according to _right hand thumb rule_.\n",
    "- If A and B are two vectors, then their vector product i.e A X B is a vector C defined by\n",
    "- __C = A X B = ABsinθn__\n",
    "- Where θ is the angle between A and B.\n",
    " \n",
    "__Right Hand Thumb rule__\n",
    "- It helps to get the direction of the vector product. \n",
    "- It can be practiced only by right handers"
   ]
  },
  {
   "cell_type": "markdown",
   "id": "58a3ac09",
   "metadata": {},
   "source": [
    "__Golden Points__\n",
    "- Vector product of two vectors is always a vector perpendicular to the plane containing the two vectors\n",
    "- It is not commutative, i.e.\n",
    "- A X B ≠ B X A but __A X B = -B X A__ In this case vectors' magnitudes are equal but direction is opposite. 2:28"
   ]
  }
 ],
 "metadata": {
  "language_info": {
   "name": "python"
  }
 },
 "nbformat": 4,
 "nbformat_minor": 5
}
