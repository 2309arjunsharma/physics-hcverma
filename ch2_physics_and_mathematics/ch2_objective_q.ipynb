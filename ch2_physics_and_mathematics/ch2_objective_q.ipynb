{
 "cells": [
  {
   "cell_type": "markdown",
   "id": "34729159",
   "metadata": {},
   "source": [
    "## OBJECTIVE I\n",
    "\n",
    "__1. A Vector is not changed if__\n",
    "\n",
    "Ans. It is slid parallel to itself "
   ]
  },
  {
   "cell_type": "markdown",
   "id": "4538ce0b",
   "metadata": {},
   "source": [
    "__2. Which of the sets given may represent the magnitudes of 3 vectors adding to zero?__\n",
    "\n",
    "Ans. 1,2,1"
   ]
  },
  {
   "cell_type": "markdown",
   "id": "44df1d47",
   "metadata": {},
   "source": [
    "__3. The resultant of A and B makes an angle α with A and β with B__"
   ]
  }
 ],
 "metadata": {
  "language_info": {
   "name": "python"
  }
 },
 "nbformat": 4,
 "nbformat_minor": 5
}
