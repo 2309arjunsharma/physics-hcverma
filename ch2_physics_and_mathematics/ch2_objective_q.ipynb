{
 "cells": [
  {
   "cell_type": "markdown",
   "id": "34729159",
   "metadata": {},
   "source": [
    "## OBJECTIVE I\n",
    "\n",
    "__1. A Vector is not changed if__\n",
    "\n",
    "Ans. It is slid parallel to itself "
   ]
  }
 ],
 "metadata": {
  "language_info": {
   "name": "python"
  }
 },
 "nbformat": 4,
 "nbformat_minor": 5
}
