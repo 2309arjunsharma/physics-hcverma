{
 "cells": [
  {
   "cell_type": "markdown",
   "id": "34729159",
   "metadata": {},
   "source": [
    "## OBJECTIVE I\n",
    "\n",
    "__1. A Vector is not changed if__\n",
    "\n",
    "Ans. It is slid parallel to itself "
   ]
  },
  {
   "cell_type": "markdown",
   "id": "4538ce0b",
   "metadata": {},
   "source": [
    "__2. Which of the sets given may represent the magnitudes of 3 vectors adding to zero?__\n",
    "\n",
    "Ans. 1,2,1"
   ]
  },
  {
   "cell_type": "markdown",
   "id": "44df1d47",
   "metadata": {},
   "source": [
    "__3. The resultant of A and B makes an angle α with A and β with B__\n",
    "\n",
    "Ans. α < β if A > B"
   ]
  },
  {
   "cell_type": "markdown",
   "id": "20e1eb5a",
   "metadata": {},
   "source": [
    "__4. The component of a vector is__\n",
    "\n",
    "Ans. Always less than its magnitude while also equal if it lies on the same plane\n",
    "\n"
   ]
  }
 ],
 "metadata": {
  "language_info": {
   "name": "python"
  }
 },
 "nbformat": 4,
 "nbformat_minor": 5
}
