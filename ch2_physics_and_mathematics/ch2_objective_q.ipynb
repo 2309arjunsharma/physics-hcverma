{
 "cells": [
  {
   "cell_type": "markdown",
   "id": "34729159",
   "metadata": {},
   "source": [
    "## OBJECTIVE I\n",
    "\n",
    "__1. A Vector is not changed if__\n",
    "\n",
    "Ans. It is slid parallel to itself "
   ]
  },
  {
   "cell_type": "markdown",
   "id": "4538ce0b",
   "metadata": {},
   "source": [
    "__2. Which of the sets given may represent the magnitudes of 3 vectors adding to zero?__\n",
    "\n",
    "Ans. 1,2,1"
   ]
  },
  {
   "cell_type": "markdown",
   "id": "44df1d47",
   "metadata": {},
   "source": [
    "__3. The resultant of A and B makes an angle α with A and β with B__\n",
    "\n",
    "Ans. α < β if A > B"
   ]
  },
  {
   "cell_type": "markdown",
   "id": "20e1eb5a",
   "metadata": {},
   "source": [
    "__4. The component of a vector is__\n",
    "\n",
    "Ans. Always less than its magnitude while also equal if it lies on the same plane\n",
    "\n"
   ]
  },
  {
   "cell_type": "markdown",
   "id": "e3e205d2",
   "metadata": {},
   "source": [
    "__5. A vector A points vertically upward and B points towards north. The vector product A X B is__\n",
    "\n",
    "Ans. along west\n"
   ]
  },
  {
   "cell_type": "markdown",
   "id": "8cbe574b",
   "metadata": {},
   "source": [
    "__6. The radius of a circle is stated as 2.12 cm. Its area should be written as__\n",
    "\n",
    "Ans. Area = πr² = 3.14 x (2.12)² = 3.14 (3SF) x 4.4944 (5SF) = 14.112416 \n",
    "\n",
    "= 14.1 cm²"
   ]
  }
 ],
 "metadata": {
  "language_info": {
   "name": "python"
  }
 },
 "nbformat": 4,
 "nbformat_minor": 5
}
