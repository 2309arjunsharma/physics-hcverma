{
 "cells": [
  {
   "cell_type": "markdown",
   "id": "7495415a",
   "metadata": {},
   "source": [
    "# __Short Answer of CH-2__"
   ]
  },
  {
   "cell_type": "markdown",
   "id": "f18b9652",
   "metadata": {},
   "source": [
    "__1. Is a vector necessarily changed if it is rotated through an angle?__\n",
    "\n",
    "__Ans :__ Yes, it is necessary that if a vector is rotated at an angle θ, it will always change\n"
   ]
  },
  {
   "cell_type": "markdown",
   "id": "ed2c68f3",
   "metadata": {},
   "source": [
    "__2. Is it possible to add two vectors of unequal magntiudes and get zero? Is it possible three vectors of equal magnitudes and get zero?__\n",
    "\n",
    "__Ans :__ \n",
    "(a) \n",
    "- if two vectors are added\n",
    "- R = √A² + B² + 2ABcosθ\n",
    "- if direction of two vectors are just opposite θ = 180\n",
    "- R = √A² + B² - 2ABcosθ\n",
    "- R = √(A - B)² = A-B \n",
    "- R = A + (-B)\n",
    "- So, if the two vectors' magnitudes are not same, then resultant can never be zero.\n",
    "\n",
    "(b)  \n",
    "- R = √a² + a² + 2aacos120\n",
    "- R = √2a² + 2a²(-1/2)\n",
    "- R = √2a² - a²\n",
    "- R = √a²\n",
    "- R = a\n",
    "- R(net) = √a² + a² + 2aacos180\n",
    "- R = √2a² + 2a²(-1)\n",
    "- R = √2a² - 2a²\n",
    "- R = √0a²\n",
    "- R = 0\n",
    "- So, if their are three vectors equal in magnitude, they might get resultant 0.\n",
    "    "
   ]
  },
  {
   "cell_type": "markdown",
   "id": "857af174",
   "metadata": {},
   "source": [
    "__3. Does the phrase \"direction of zero vector\" have physical significance? Discuss in terms of velocity, force, etc.__\n",
    "\n",
    "__Ans :__\n",
    "- Zero vector = magnitude = 0\n",
    "- F = 0N = No force exerted, so no direction\n",
    "- V = 0 [Rest]\n",
    "- \"Direction of zero vector\" has no phhsical significance"
   ]
  },
  {
   "cell_type": "markdown",
   "id": "f788246a",
   "metadata": {},
   "source": [
    "__4. Can you add three unit vectors to get a unit vector?__"
   ]
  },
  {
   "cell_type": "markdown",
   "id": "487d504a",
   "metadata": {},
   "source": [
    "__5. Can we have physical quantities having magnitude and direction whch are not vectors.?__"
   ]
  },
  {
   "cell_type": "markdown",
   "id": "606b8a79",
   "metadata": {},
   "source": [
    "__Which is more appropriate? (a) Two forces are added"
   ]
  }
 ],
 "metadata": {
  "language_info": {
   "name": "python"
  }
 },
 "nbformat": 4,
 "nbformat_minor": 5
}
