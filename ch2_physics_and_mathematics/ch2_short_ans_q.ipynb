{
 "cells": [
  {
   "cell_type": "markdown",
   "id": "7495415a",
   "metadata": {},
   "source": [
    "# __Short Answer of CH-2__"
   ]
  },
  {
   "cell_type": "markdown",
   "id": "f18b9652",
   "metadata": {},
   "source": [
    "__1. Is a vector necessarily changed if it is rotated through an angle?__\n",
    "\n",
    "__Ans :__ Yes, it is necessary if a vector is rotated at an angle θ, it will always change\n"
   ]
  }
 ],
 "metadata": {
  "language_info": {
   "name": "python"
  }
 },
 "nbformat": 4,
 "nbformat_minor": 5
}
