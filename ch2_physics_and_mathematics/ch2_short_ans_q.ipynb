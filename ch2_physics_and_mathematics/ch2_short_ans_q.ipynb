{
 "cells": [
  {
   "cell_type": "markdown",
   "id": "7495415a",
   "metadata": {},
   "source": [
    "# __Short Answer of CH-2__"
   ]
  },
  {
   "cell_type": "markdown",
   "id": "f18b9652",
   "metadata": {},
   "source": [
    "__1. Is a vector necessarily changed if it is rotated through an angle?__\n",
    "\n",
    "__Ans :__ Yes, it is necessary that if a vector is rotated at an angle θ, it will always change\n"
   ]
  },
  {
   "cell_type": "markdown",
   "id": "ed2c68f3",
   "metadata": {},
   "source": [
    "__2. Is it possible to add two vectors of unequal magntiudes and get zero? Is it possible three vectors of equal magnitudes and get zero?__\n",
    "\n",
    "__Ans :__ \n",
    "- if two vectors are added\n",
    "- R = √A² + B² + 2ABcosθ\n",
    "- if direction of two vectors are just opposite θ = 180\n",
    "- R = √A² + B² - 2ABcosθ\n",
    "- R = √(A - B)² = A-B \n",
    "- R = A + (-B)\n",
    "- So, if the two vectors' magnitudes are not same, then resultant can never be zero."
   ]
  }
 ],
 "metadata": {
  "language_info": {
   "name": "python"
  }
 },
 "nbformat": 4,
 "nbformat_minor": 5
}
