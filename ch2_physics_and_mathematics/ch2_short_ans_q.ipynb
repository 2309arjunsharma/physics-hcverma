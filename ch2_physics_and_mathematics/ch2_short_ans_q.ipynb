{
 "cells": [
  {
   "cell_type": "markdown",
   "id": "7495415a",
   "metadata": {},
   "source": [
    "# __Short Answer of CH-2__"
   ]
  },
  {
   "cell_type": "markdown",
   "id": "f18b9652",
   "metadata": {},
   "source": [
    "__1. Is a vector necessarily changed if it is rotated through an angle?__\n",
    "\n",
    "__Ans :__ Yes, it is necessary that if a vector is rotated at an angle θ, it will always change\n"
   ]
  },
  {
   "cell_type": "markdown",
   "id": "ed2c68f3",
   "metadata": {},
   "source": [
    "__2. Is it possible to add two vectors of unequal magntiudes and get zero? Is it possible three vectors of equal magnitudes and get zero?__\n",
    "\n",
    "__Ans :__ \n",
    "(a) \n",
    "- if two vectors are added\n",
    "- R = √A² + B² + 2ABcosθ\n",
    "- if direction of two vectors are just opposite θ = 180\n",
    "- R = √A² + B² - 2ABcosθ\n",
    "- R = √(A - B)² = A-B \n",
    "- R = A + (-B)\n",
    "- So, if the two vectors' magnitudes are not same, then resultant can never be zero.\n",
    "\n",
    "(b)  \n",
    "- R = √a² + a² + 2aacos120\n",
    "- R = √2a² + 2a²(-1/2)\n",
    "- R = √2a² - a²\n",
    "- R = √a²\n",
    "- R = a\n",
    "- R(net) = √a² + a² + 2aacos180\n",
    "- R = √2a² + 2a²(-1)\n",
    "- R = √2a² - 2a²\n",
    "- R = √0a²\n",
    "- R = 0\n",
    "- So, if their are three vectors equal in magnitude, they might get resultant 0.\n",
    "    "
   ]
  },
  {
   "cell_type": "markdown",
   "id": "857af174",
   "metadata": {},
   "source": [
    "__3. Does the phrase \"direction of zero vector\" have physical significance? Discuss in terms of velocity, force, etc.__\n",
    "\n",
    "__Ans :__\n",
    "- Zero vector = magnitude = 0\n",
    "- F = 0N = No force exerted, so no direction\n",
    "- V = 0 [Rest]\n",
    "- \"Direction of zero vector\" has no phhsical significance"
   ]
  },
  {
   "cell_type": "markdown",
   "id": "f788246a",
   "metadata": {},
   "source": [
    "__4. Can you add three unit vectors to get a unit vector? Does your answer change if two vectors are along the coordinate axes?__\n",
    "\n",
    "__Solution :__ \n",
    "- A = i + j + k\n",
    "- R = √1 + 1 + 1\n",
    "- = √3 (Not a unit vector)\n",
    "\n",
    "- R(AB) = A - B\n",
    "- = 1-1 = 0\n"
   ]
  },
  {
   "cell_type": "markdown",
   "id": "487d504a",
   "metadata": {},
   "source": [
    "__5. Can we have physical quantities having magnitude and direction whIch are not vectors.?__\n",
    "\n",
    "__Solution :__\n",
    "- A vector follows vector law of addition\n",
    "- Eg: Current has magnitude, direction but does not follow vector law of addition.\n",
    "- These are TENSOR quantities"
   ]
  },
  {
   "cell_type": "markdown",
   "id": "606b8a79",
   "metadata": {},
   "source": [
    "__6. Which is more appropriate?__\n",
    "\n",
    "__(a) Two forces are added using triangle rule because force is a vector quantity,__\n",
    "\n",
    "__(b) Force is a vector quantity because two forces are added using triangle rule.__\n",
    "\n",
    "__Solution :__\n",
    "- (a) Two forces are added using triangle rule because force is a vector quantity, is the correct statement\n",
    "- Vector = vector law of addition\n",
    "\n",
    "\n"
   ]
  },
  {
   "cell_type": "markdown",
   "id": "2042f726",
   "metadata": {},
   "source": [
    "__7. Can you add two vectors representing physical quantites having different dimensions? Can you multiply two vectors representing physical quantites having different dimensions?__\n",
    "\n",
    "__Solution :__\n",
    "- Eg: force + velocity \n",
    "- 5N + 5m/s = 10Nm/s is wrong\n",
    "- Only those quantites can be added which have same dimensions\n",
    "- For eg: Velocity + velocity, mass + mass, etc.\n",
    "- \n",
    "- Eg: Force = mass X acceleration = M X LT-²\n",
    "- mass = Force/acceleration\n",
    "- Vectors with different dimensions can be multiplied or divided, not added or subtracted."
   ]
  },
  {
   "cell_type": "markdown",
   "id": "b40a84e9",
   "metadata": {},
   "source": [
    "__8.Can a vector have zero component along a line and still have a non-zero magnitude?__\n",
    "\n",
    "__Solution :__\n",
    "- A(y) = 0, A = 5i\n",
    "- A = 5 unit\n",
    "- Hence, a vector having zero component along a line can still have a non-zero magnitude "
   ]
  }
 ],
 "metadata": {
  "language_info": {
   "name": "python"
  }
 },
 "nbformat": 4,
 "nbformat_minor": 5
}
