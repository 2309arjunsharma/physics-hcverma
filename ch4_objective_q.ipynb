{
 "cells": [
  {
   "cell_type": "markdown",
   "id": "1de437be",
   "metadata": {},
   "source": [
    "# __OBJECTIVE 1__"
   ]
  },
  {
   "cell_type": "markdown",
   "id": "eec87a4d",
   "metadata": {},
   "source": [
    "__Ans 1:__\n",
    "- Handshake force = ___(b)___ Electromagnetic"
   ]
  },
  {
   "cell_type": "markdown",
   "id": "bdb43b3d",
   "metadata": {},
   "source": [
    "__Ans 2:__\n",
    "- ___(d)___ E>G>N"
   ]
  },
  {
   "cell_type": "markdown",
   "id": "33674160",
   "metadata": {},
   "source": [
    "__Ans 3:__\n",
    "- ___(d)___ irrespective of signs of the charges"
   ]
  },
  {
   "cell_type": "markdown",
   "id": "3c1e8105",
   "metadata": {},
   "source": [
    "__Ans 4:__\n",
    "- ___(c)___ 60 N"
   ]
  },
  {
   "cell_type": "markdown",
   "id": "bf7f107d",
   "metadata": {},
   "source": [
    "# __OBJECTIVE 2__"
   ]
  },
  {
   "cell_type": "markdown",
   "id": "aae8d240",
   "metadata": {},
   "source": [
    "__Ans 1:__\n",
    "- ___(a)___ gravitational\n",
    "- ___(c)___ nuclear"
   ]
  },
  {
   "cell_type": "markdown",
   "id": "1177a6d6",
   "metadata": {},
   "source": [
    "__Ans 2:__\n",
    "- ___(a)___ gravitational \n",
    "- ___(b)___ electromagnetic\n",
    "- ___(c)___ nuclear"
   ]
  },
  {
   "cell_type": "markdown",
   "id": "3ed59aca",
   "metadata": {},
   "source": [
    "__Ans 3:__\n",
    "- ___(b)___ Electromagnetic force between two protons is always greater than gravitational force between them\n",
    "- ___(c)___ Gravvitational force between two protons may be greater than nuclear force between them\n",
    "- ___(d)___ Electromagnetic force between two protons may be greater than nuclear force acting between them"
   ]
  },
  {
   "cell_type": "markdown",
   "id": "c471ba3e",
   "metadata": {},
   "source": [
    "__Ans 4:__\n",
    "- ___(a)___ there would be no force of friction\n",
    "- ___(b)___ there would be no tension in the strim\n",
    "- ___(c)___ it would not be possible to sit on a chair"
   ]
  },
  {
   "cell_type": "markdown",
   "id": "de730993",
   "metadata": {},
   "source": [
    "__Ans 5:__\n",
    "- ___(a)___ motion of cricket balll\n",
    "- ___(b)___ motion of dust particle"
   ]
  },
  {
   "cell_type": "markdown",
   "id": "dba35f41",
   "metadata": {},
   "source": [
    "__Ans 6:__\n",
    "- ___(a)___ The right end is displaced towards right and left ends toward left\n",
    "- ___(d)___ The right end is displaced towards left and left ends toward right"
   ]
  },
  {
   "cell_type": "markdown",
   "id": "7ec3cbd6",
   "metadata": {},
   "source": [
    "__Ans 7:__\n",
    "- ___(a)___ \n",
    "- ___(b)___ \n",
    "- ___(c)___ \n",
    "- ___(d)___ "
   ]
  }
 ],
 "metadata": {
  "language_info": {
   "name": "python"
  }
 },
 "nbformat": 4,
 "nbformat_minor": 5
}
