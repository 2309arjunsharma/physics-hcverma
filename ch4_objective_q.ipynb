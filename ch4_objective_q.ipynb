{
 "cells": [
  {
   "cell_type": "markdown",
   "id": "1de437be",
   "metadata": {},
   "source": [
    "# __OBJECTIVE 1__"
   ]
  },
  {
   "cell_type": "markdown",
   "id": "eec87a4d",
   "metadata": {},
   "source": [
    "__Ans 1:__\n",
    "- Handshake force = ___(b)___ Electromagnetic"
   ]
  },
  {
   "cell_type": "markdown",
   "id": "bdb43b3d",
   "metadata": {},
   "source": [
    "__Ans 2:__\n",
    "- ___(d)___ E>G>N"
   ]
  }
 ],
 "metadata": {
  "language_info": {
   "name": "python"
  }
 },
 "nbformat": 4,
 "nbformat_minor": 5
}
