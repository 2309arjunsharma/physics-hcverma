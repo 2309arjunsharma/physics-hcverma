{
 "cells": [
  {
   "cell_type": "markdown",
   "id": "1de437be",
   "metadata": {},
   "source": [
    "# __OBJECTIVE 1__"
   ]
  },
  {
   "cell_type": "markdown",
   "id": "eec87a4d",
   "metadata": {},
   "source": [
    "__Ans 1:__\n",
    "- Handshake force = ___(b)___ Electromagnetic"
   ]
  },
  {
   "cell_type": "markdown",
   "id": "bdb43b3d",
   "metadata": {},
   "source": [
    "__Ans 2:__\n",
    "- ___(d)___ E>G>N"
   ]
  },
  {
   "cell_type": "markdown",
   "id": "33674160",
   "metadata": {},
   "source": [
    "__Ans 3:__\n",
    "- ___(d)___ irrespective of signs of the charges"
   ]
  },
  {
   "cell_type": "markdown",
   "id": "3c1e8105",
   "metadata": {},
   "source": [
    "__Ans 4:__\n",
    "- ___(c)___ 60 N"
   ]
  }
 ],
 "metadata": {
  "language_info": {
   "name": "python"
  }
 },
 "nbformat": 4,
 "nbformat_minor": 5
}
