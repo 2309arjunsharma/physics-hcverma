{
 "cells": [
  {
   "cell_type": "markdown",
   "id": "7442d50d",
   "metadata": {},
   "source": [
    "# __QUESTIONS FOR SHORT ANSWER CH-5__"
   ]
  },
  {
   "cell_type": "markdown",
   "id": "9b6395ad",
   "metadata": {},
   "source": [
    "__Q1__\n",
    "\n",
    "- N-mg = ma\n",
    "- N = mg + ma\n",
    "- W(app) > W(actual)\n",
    "- He will not gain, as the apparent weight on both sides will be the same.\n",
    "\n"
   ]
  },
  {
   "cell_type": "markdown",
   "id": "9a431a0f",
   "metadata": {},
   "source": [
    "__Q2__\n",
    "\n",
    "- During freefall = N = 0 (Condition for weightlessness)\n",
    "- Box will not exert a force\n",
    "- After balancing = N = mg + Mg\n",
    "- So, yes the force greatly increases during the period he lands"
   ]
  },
  {
   "cell_type": "markdown",
   "id": "7ed6ad37",
   "metadata": {},
   "source": [
    "__Q3 (a)__\n",
    "- Both person in car and coin have same velocity in the direction\n",
    "- Therefore, there is no relative motion between them in horizontal direction.\n",
    "- That's why for the person inside coin, coin will fall vertically straight path."
   ]
  },
  {
   "cell_type": "markdown",
   "id": "7014bce5",
   "metadata": {},
   "source": [
    "__Q3 (b)__\n",
    "- w.r.t person inside a freely falling elevator the coin will remain stationary."
   ]
  },
  {
   "cell_type": "markdown",
   "id": "9d68d15c",
   "metadata": {},
   "source": [
    "__Q4__\n",
    "\n",
    "- No, it is not possible\n",
    "- It is because of Centripetal Force.Centripetal force is important for circular motion.\n",
    "- Yes, our answer depends on frame of reference"
   ]
  }
 ],
 "metadata": {
  "language_info": {
   "name": "python"
  }
 },
 "nbformat": 4,
 "nbformat_minor": 5
}
