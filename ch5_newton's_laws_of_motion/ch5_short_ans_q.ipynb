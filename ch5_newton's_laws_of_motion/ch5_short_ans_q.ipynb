{
 "cells": [
  {
   "cell_type": "markdown",
   "id": "7442d50d",
   "metadata": {},
   "source": [
    "# __QUESTIONS FOR SHORT ANSWER CH-5__"
   ]
  },
  {
   "cell_type": "markdown",
   "id": "9b6395ad",
   "metadata": {},
   "source": [
    "__Q1__\n",
    "\n",
    "- N-mg = ma\n",
    "- N = mg + ma\n",
    "- W(app) > W(actual)\n",
    "- He will not gain, as the apparent weight on both sides will be the same.\n",
    "\n"
   ]
  },
  {
   "cell_type": "markdown",
   "id": "9a431a0f",
   "metadata": {},
   "source": [
    "__Q2__\n",
    "\n",
    "- During freefall = N = 0 (Condition for weightlessness)\n",
    "- Box will not exert a force\n",
    "- After balancing = N = mg + Mg\n",
    "- So, yes the force greatly increases during the period he lands"
   ]
  }
 ],
 "metadata": {
  "language_info": {
   "name": "python"
  }
 },
 "nbformat": 4,
 "nbformat_minor": 5
}
