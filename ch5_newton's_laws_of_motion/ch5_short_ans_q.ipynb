{
 "cells": [
  {
   "cell_type": "markdown",
   "id": "7442d50d",
   "metadata": {},
   "source": [
    "# __QUESTIONS FOR SHORT ANSWER CH-5__"
   ]
  },
  {
   "cell_type": "markdown",
   "id": "9b6395ad",
   "metadata": {},
   "source": [
    "__Q1__\n",
    "\n",
    "- N-mg = ma\n",
    "- N = mg + ma\n",
    "- W(app) > W(actual)\n",
    "- He will not gain, as the apparent weight on both sides will be the same.\n",
    "\n"
   ]
  },
  {
   "cell_type": "markdown",
   "id": "9a431a0f",
   "metadata": {},
   "source": [
    "__Q2__\n",
    "\n",
    "- During freefall = N = 0 (Condition for weightlessness)\n",
    "- Box will not exert a force\n",
    "- After balancing = N = mg + Mg\n",
    "- So, yes the force greatly increases during the period he lands"
   ]
  },
  {
   "cell_type": "markdown",
   "id": "7ed6ad37",
   "metadata": {},
   "source": [
    "__Q3 (a)__\n",
    "- Both person in car and coin have same velocity in the direction\n",
    "- Therefore, there is no relative motion between them in horizontal direction.\n",
    "- That's why for the person inside coin, coin will fall vertically straight path."
   ]
  },
  {
   "cell_type": "markdown",
   "id": "7014bce5",
   "metadata": {},
   "source": [
    "__Q3 (b)__\n",
    "- w.r.t person inside a freely falling elevator the coin will remain stationary."
   ]
  },
  {
   "cell_type": "markdown",
   "id": "9d68d15c",
   "metadata": {},
   "source": [
    "__Q4__\n",
    "\n",
    "- No, it is not possible\n",
    "- It is because of Centripetal Force.Centripetal force is important for circular motion.\n",
    "- Yes, our answer depends on frame of reference"
   ]
  },
  {
   "cell_type": "markdown",
   "id": "f6dd6632",
   "metadata": {},
   "source": [
    "__Q5__\n",
    "\n",
    "- Inertia of motion"
   ]
  },
  {
   "cell_type": "markdown",
   "id": "7b15f84e",
   "metadata": {},
   "source": [
    "__Q6__\n",
    "\n",
    "- When seen from Sun, Earth is non-inertial.\n"
   ]
  },
  {
   "cell_type": "markdown",
   "id": "8aadc0ba",
   "metadata": {},
   "source": [
    "__Q7__\n",
    "\n",
    "- Yes, it is necessarily inertial"
   ]
  },
  {
   "cell_type": "markdown",
   "id": "2c4ecf26",
   "metadata": {},
   "source": [
    "__Q8__\n",
    "\n",
    "(a)\n",
    "- Reading = 20 g = 200 N = T\n",
    "- Reading will be same, as weight of spring balance does not affect tension in string.\n",
    "\n",
    "(b) \n",
    "- If m1>m2\n",
    "- a = (m1g - m2g)/(m1+m2) = (m1-m2)g/(m1+m2)\n",
    "- T = 2m₁m₂g/m₁+m₂"
   ]
  },
  {
   "cell_type": "markdown",
   "id": "35dc01f0",
   "metadata": {},
   "source": [
    "__Q9__\n",
    "\n",
    "- Net force = 0\n",
    "- No, we cannot conclude this, might be vector addition of forces on the particle is zero."
   ]
  },
  {
   "cell_type": "markdown",
   "id": "7d985a66",
   "metadata": {},
   "source": [
    "__Q10__\n",
    "\n",
    "- Friction / frictional force is responsible for my deceleration."
   ]
  },
  {
   "cell_type": "markdown",
   "id": "4924a0f6",
   "metadata": {},
   "source": [
    "__Q11__\n",
    "\n",
    "- P = mv\n",
    "- Acc. to Newton's second law\n",
    "- F↑ = Δp/Δt↓ (Hard surface)\n",
    "- F↓ = Δp/Δt↑ (Sand/pillow)\n"
   ]
  },
  {
   "cell_type": "markdown",
   "id": "ecd497b1",
   "metadata": {},
   "source": [
    "__Q12__"
   ]
  }
 ],
 "metadata": {
  "language_info": {
   "name": "python"
  }
 },
 "nbformat": 4,
 "nbformat_minor": 5
}
