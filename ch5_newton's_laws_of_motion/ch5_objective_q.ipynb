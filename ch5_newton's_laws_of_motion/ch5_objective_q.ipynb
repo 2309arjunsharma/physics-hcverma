{
 "cells": [
  {
   "cell_type": "markdown",
   "id": "d9840ab4",
   "metadata": {},
   "source": [
    "# __OBJECTIVE I__"
   ]
  },
  {
   "cell_type": "markdown",
   "id": "e00d8699",
   "metadata": {},
   "source": [
    "__Q1)__ (c) w1 + w2\n"
   ]
  },
  {
   "cell_type": "markdown",
   "id": "d2fc871d",
   "metadata": {},
   "source": [
    "__Q2)__ (b) The ground on the horse"
   ]
  },
  {
   "cell_type": "markdown",
   "id": "c28f769d",
   "metadata": {},
   "source": [
    "__Q3)__ (d) the road"
   ]
  },
  {
   "cell_type": "markdown",
   "id": "14416d2d",
   "metadata": {},
   "source": [
    "__Q4)__ (a) Both scales will read 10 kg."
   ]
  },
  {
   "cell_type": "markdown",
   "id": "69338b02",
   "metadata": {},
   "source": [
    "__Q5)__ (c) mg cosθ"
   ]
  },
  {
   "cell_type": "markdown",
   "id": "6064d46f",
   "metadata": {},
   "source": [
    "__Q6)__ (d) mg tanθ"
   ]
  },
  {
   "cell_type": "markdown",
   "id": "2141dae9",
   "metadata": {},
   "source": [
    "__Q7)__ (d) Remain Standing"
   ]
  },
  {
   "cell_type": "markdown",
   "id": "0661bc92",
   "metadata": {},
   "source": [
    "__Q8)__ (a) Zero"
   ]
  },
  {
   "cell_type": "markdown",
   "id": "f8a4d593",
   "metadata": {},
   "source": [
    "__Q9)__ (b) F1 may be equal to F2"
   ]
  },
  {
   "cell_type": "markdown",
   "id": "5cf68094",
   "metadata": {},
   "source": [
    "__Q10)__ (b) A will go higher than B"
   ]
  },
  {
   "cell_type": "markdown",
   "id": "c785dfaa",
   "metadata": {},
   "source": [
    "__Q11)__ (c) Remain at the top of the wedge"
   ]
  },
  {
   "cell_type": "markdown",
   "id": "2b6373c2",
   "metadata": {},
   "source": [
    "__Q12)__ (b) t1 > t2"
   ]
  },
  {
   "cell_type": "markdown",
   "id": "e90dd53a",
   "metadata": {},
   "source": [
    "__Q13)__ (a) t1 = t2"
   ]
  },
  {
   "cell_type": "markdown",
   "id": "dad2a493",
   "metadata": {},
   "source": [
    "__Q14)__ (c) x"
   ]
  },
  {
   "cell_type": "markdown",
   "id": "b0a81973",
   "metadata": {},
   "source": [
    "# __OBJECTIVE II__"
   ]
  },
  {
   "cell_type": "markdown",
   "id": "845aa276",
   "metadata": {},
   "source": [
    "__Q1__ (b), (d)"
   ]
  },
  {
   "cell_type": "markdown",
   "id": "a8f053d8",
   "metadata": {},
   "source": [
    "__Q2__  (c), (d)"
   ]
  },
  {
   "cell_type": "markdown",
   "id": "64d81ec9",
   "metadata": {},
   "source": [
    "__Q3__ (a), (b)"
   ]
  },
  {
   "cell_type": "markdown",
   "id": "802d5b09",
   "metadata": {},
   "source": [
    "__Q4__ (a), (c)\n"
   ]
  },
  {
   "cell_type": "markdown",
   "id": "12392d35",
   "metadata": {},
   "source": [
    "__Q5__ (a)"
   ]
  },
  {
   "cell_type": "markdown",
   "id": "55046d92",
   "metadata": {},
   "source": [
    "__Q6__ (b), (c)"
   ]
  },
  {
   "cell_type": "markdown",
   "id": "201369eb",
   "metadata": {},
   "source": [
    "__Q7__ (c), (d)"
   ]
  },
  {
   "cell_type": "markdown",
   "id": "1b6b6282",
   "metadata": {},
   "source": [
    "__Q8__ (d)"
   ]
  },
  {
   "cell_type": "markdown",
   "id": "24eb7bab",
   "metadata": {},
   "source": [
    "__Q9__ (d)"
   ]
  }
 ],
 "metadata": {
  "language_info": {
   "name": "python"
  }
 },
 "nbformat": 4,
 "nbformat_minor": 5
}
