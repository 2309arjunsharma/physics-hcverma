{
 "cells": [
  {
   "cell_type": "markdown",
   "id": "d9840ab4",
   "metadata": {},
   "source": [
    "# __OBJECTIVE I__"
   ]
  },
  {
   "cell_type": "markdown",
   "id": "e00d8699",
   "metadata": {},
   "source": [
    "__Q1)__ (c) w1 + w2\n"
   ]
  },
  {
   "cell_type": "markdown",
   "id": "d2fc871d",
   "metadata": {},
   "source": [
    "__Q2)__ (b) The ground on the horse"
   ]
  },
  {
   "cell_type": "markdown",
   "id": "c28f769d",
   "metadata": {},
   "source": [
    "__Q3)__ (d) the road"
   ]
  },
  {
   "cell_type": "markdown",
   "id": "14416d2d",
   "metadata": {},
   "source": [
    "__Q4)__ (a) Both scales will read 10 kg."
   ]
  },
  {
   "cell_type": "markdown",
   "id": "69338b02",
   "metadata": {},
   "source": [
    "__Q5)__ (c) mg cosθ"
   ]
  },
  {
   "cell_type": "markdown",
   "id": "6064d46f",
   "metadata": {},
   "source": [
    "__Q6)__ (d) mg tanθ"
   ]
  }
 ],
 "metadata": {
  "language_info": {
   "name": "python"
  }
 },
 "nbformat": 4,
 "nbformat_minor": 5
}
