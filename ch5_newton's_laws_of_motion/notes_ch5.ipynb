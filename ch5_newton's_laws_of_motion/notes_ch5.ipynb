{
 "cells": [
  {
   "cell_type": "markdown",
   "id": "1f9e10e1",
   "metadata": {},
   "source": [
    "# __CHAPTER-5 NEWTON'S LAWS OF MOTION__"
   ]
  },
  {
   "cell_type": "markdown",
   "id": "c39e68b3",
   "metadata": {},
   "source": [
    "## 5.1 FIRST LAW OF MOTION\n",
    "- Every body continues in its state of rest or uniform motion in a straight line unless an external force is applied on it to change it state\n",
    "- First law defines force and says that force is a push or pull which changes or tend to change the state of rest or of uniform motion."
   ]
  }
 ],
 "metadata": {
  "language_info": {
   "name": "python"
  }
 },
 "nbformat": 4,
 "nbformat_minor": 5
}
