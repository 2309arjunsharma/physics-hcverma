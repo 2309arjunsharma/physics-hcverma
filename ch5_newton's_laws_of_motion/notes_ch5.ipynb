{
 "cells": [
  {
   "cell_type": "markdown",
   "id": "1f9e10e1",
   "metadata": {},
   "source": [
    "# __CHAPTER-5 NEWTON'S LAWS OF MOTION__"
   ]
  },
  {
   "cell_type": "markdown",
   "id": "7717f40a",
   "metadata": {},
   "source": [
    "## 5.1 FIRST LAW OF MOTION"
   ]
  },
  {
   "cell_type": "markdown",
   "id": "589d540b",
   "metadata": {},
   "source": [
    "__Newton's First Law__\n",
    "- _If the (vector) sum of all the forces acting on a particle is zero then and only then the particle remains unaccelerated (i.e, remains at rest or moves with constant velocity)_"
   ]
  },
  {
   "cell_type": "markdown",
   "id": "6fa00ed7",
   "metadata": {},
   "source": [
    "\n",
    "\n",
    "- Every body continues in its state of rest or uniform motion in a straight line unless an external force is applied on it to change it state\n",
    "- First law defines force and says that force is a push or pull which changes or tend to change the state of rest or of uniform motion.\n",
    "- _Also known as Galileo's law of inertia._"
   ]
  },
  {
   "cell_type": "markdown",
   "id": "ab753a26",
   "metadata": {},
   "source": [
    "__Inertia__"
   ]
  },
  {
   "cell_type": "markdown",
   "id": "48e9c8a0",
   "metadata": {},
   "source": [
    "- It is the property of a body by virtue of which it opposes any change in its state of rest or of uniform motion\n",
    "- Mass is a measure of Inertia\n",
    "- Types of Inertia --\n",
    "    - ___Inertia of rest___ = Property of a body by virtue of which it opposes any change in its state of rest.\n",
    "    - _It is inability of a body to change the state of rest by itself._\n",
    "    - ___Inertia of motion___ = Property of a body by virtue of which it opposes any change in its state of motion \n",
    "    - _It is inability of a body to change the state of motion by itself._\n",
    "    - ___Inertia of direction___ = Property of a body by virtue of which it opposes any change in its state of direction \n",
    "    - _It is inability of a body to change the state of direction by itself._"
   ]
  },
  {
   "cell_type": "markdown",
   "id": "152076e5",
   "metadata": {},
   "source": [
    "__Momentum__\n",
    "- Total quantity of motion possesed by a moving body is known as momentum of the body \n",
    "- p = mv\n",
    "- It is a vector quantity\n",
    "- SI unit is kg-m/s²\n",
    "- Dimensional formula = MLT-¹"
   ]
  },
  {
   "cell_type": "markdown",
   "id": "56826771",
   "metadata": {},
   "source": [
    "## 5.2 SECOND LAW OF MOTION\n",
    "- The rate of change of momentum of any system is directly proportional to the applied external force and this change takes place in the direction of applied force\n",
    "- F = dp/dt = d(mv)/dt\n",
    "- If m = constant\n",
    "    - F = m(dv/dt) = ma\n",
    "- If v = constant \n",
    "    - F = v(dm/dt) kg/s"
   ]
  },
  {
   "cell_type": "markdown",
   "id": "09af494b",
   "metadata": {},
   "source": [
    "__Impulse__\n",
    "- When a large force is applied on a body for a very short time interval product of force and time interval gives us impulse.\n",
    "- dI = Fdt\n",
    "- Unit of Impulse = N-s or kg-m/s\n",
    "- Dimension = MLT-²[T]= MLT-¹\n",
    "- Impulse = charge in momentum"
   ]
  },
  {
   "cell_type": "markdown",
   "id": "cb597464",
   "metadata": {},
   "source": [
    "## 5.3 Law of Conservation of momentum\n",
    "- If net external force on a system is zero then the linear momentum of the system remains constant\n",
    "- F(ext) = dp/dt\n",
    "- if F(ext) = 0 then\n",
    "- dp/dt = 0\n",
    "- p = constant"
   ]
  },
  {
   "cell_type": "markdown",
   "id": "d01decd3",
   "metadata": {
    "vscode": {
     "languageId": "plaintext"
    }
   },
   "source": [
    "## 5.4 Newton's third law of motion"
   ]
  },
  {
   "cell_type": "markdown",
   "id": "087e1a3c",
   "metadata": {},
   "source": [
    "- To every action there is always an equal (in magnitude and) and opposite (in direction) reaction\n",
    "- It is also called action-reaction law\n",
    "- If a body A exert a force F on another body B, then B exerts a force -F on A"
   ]
  }
 ],
 "metadata": {
  "language_info": {
   "name": "python"
  }
 },
 "nbformat": 4,
 "nbformat_minor": 5
}
