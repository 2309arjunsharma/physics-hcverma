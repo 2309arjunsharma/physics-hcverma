{
 "cells": [
  {
   "cell_type": "markdown",
   "id": "4c74f016",
   "metadata": {},
   "source": [
    "# SHORT ANSWER QUESTIONS OF CH-3"
   ]
  },
  {
   "cell_type": "markdown",
   "id": "38ee68af",
   "metadata": {},
   "source": [
    "__Ans 1__\n",
    "- Since there is no meaning of absolute motion. Therefore Both are equally correct or wrong because of the frame of reference"
   ]
  },
  {
   "cell_type": "markdown",
   "id": "8142c746",
   "metadata": {},
   "source": [
    "__Ans 2__\n",
    "- Δv = 5/1 = 5m/s\n",
    "- Δv avg = 5+5+5/3 = 15/3 = 5m/s\n",
    "- Δv ins = ds/dt = 5m/s\n",
    "- Speed (in one dimension motion)= magnitude of velocity gives speed\n",
    "- Speed = 5m/s\n",
    "- Yes all statements constant velocity, average velocity, instantaneous velocity and its speed are equal\n"
   ]
  },
  {
   "cell_type": "markdown",
   "id": "3e4e6ea8",
   "metadata": {},
   "source": [
    "__Ans 3__\n",
    "- Va = 60(-k)\n",
    "- Vb = 60(i)\n",
    "- Velocity depends on magnitude as well as direction\n",
    "- Va is not equal to Vb. \n",
    "- Since magnitude of Va = Vb we can't say which one is greater."
   ]
  },
  {
   "cell_type": "markdown",
   "id": "53f3e0ea",
   "metadata": {},
   "source": [
    "__Ans 5__\n",
    "- If acceleration is not towards west,east, north or south. Then it is towards up or down\n",
    "- Up acceleration is not possible, however, downward acceleration (acceleration due to gravity) is possible.\n",
    "- This is an example of _HORIZONTAL PROJECTILE MOTION_"
   ]
  },
  {
   "cell_type": "markdown",
   "id": "a2b6c6a0",
   "metadata": {},
   "source": [
    "__Ans 6__\n",
    "- Vy = Vsinθ, Vx = Vcosθ\n",
    "- At the top point, V = Vcosθ (min. velocity)\n",
    "- Because at the top point, Vx = Vcosθ but Vy = 0\n",
    "- Therefore, at top point the projectile has smallest speed.\n",
    "\n"
   ]
  }
 ],
 "metadata": {
  "language_info": {
   "name": "python"
  }
 },
 "nbformat": 4,
 "nbformat_minor": 5
}
