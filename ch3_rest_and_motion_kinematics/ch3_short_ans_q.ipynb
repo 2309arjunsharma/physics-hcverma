{
 "cells": [
  {
   "cell_type": "markdown",
   "id": "4c74f016",
   "metadata": {},
   "source": [
    "# SHORT ANSWER QUESTIONS OF CH-3"
   ]
  },
  {
   "cell_type": "markdown",
   "id": "38ee68af",
   "metadata": {},
   "source": [
    "__Ans 1__\n",
    "- Since there is no meaning of absolute motion. Therefore Both are equally correct or wrong because of the frame of reference"
   ]
  },
  {
   "cell_type": "markdown",
   "id": "8142c746",
   "metadata": {},
   "source": [
    "__Ans 2__\n",
    "- 5"
   ]
  }
 ],
 "metadata": {
  "language_info": {
   "name": "python"
  }
 },
 "nbformat": 4,
 "nbformat_minor": 5
}
