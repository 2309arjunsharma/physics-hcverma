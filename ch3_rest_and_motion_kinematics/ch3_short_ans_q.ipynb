{
 "cells": [
  {
   "cell_type": "markdown",
   "id": "4c74f016",
   "metadata": {},
   "source": [
    "# SHORT ANSWER QUESTIONS OF CH-3"
   ]
  }
 ],
 "metadata": {
  "language_info": {
   "name": "python"
  }
 },
 "nbformat": 4,
 "nbformat_minor": 5
}
