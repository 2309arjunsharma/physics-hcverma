{
 "cells": [
  {
   "cell_type": "markdown",
   "id": "4c74f016",
   "metadata": {},
   "source": [
    "# SHORT ANSWER QUESTIONS OF CH-3"
   ]
  },
  {
   "cell_type": "markdown",
   "id": "38ee68af",
   "metadata": {},
   "source": [
    "__Ans 1__\n",
    "- Since there is no meaning of absolute motion. Therefore Both are equally correct or wrong because of the frame of reference"
   ]
  },
  {
   "cell_type": "markdown",
   "id": "8142c746",
   "metadata": {},
   "source": [
    "__Ans 2__\n",
    "- Δv = 5/1 = 5m/s\n",
    "- Δv avg = 5+5+5/3 = 15/3 = 5m/s\n",
    "- Δv ins = ds/dt = 5m/s\n",
    "- Speed (in one dimension motion)= magnitude of velocity gives speed\n",
    "- Speed = 5m/s\n",
    "- Yes all statements constant velocity, average velocity, instantaneous velocity and its speed are equal\n"
   ]
  },
  {
   "cell_type": "markdown",
   "id": "3e4e6ea8",
   "metadata": {},
   "source": [
    "__Ans 3__\n",
    "- Va = 60(-k)\n",
    "- Vb = 60(i)\n",
    "- Velocity depends on magnitude as well as direction\n",
    "- Va is not equal to Vb. \n",
    "- Since magnitude of Va = Vb we can't say which one is greater."
   ]
  },
  {
   "cell_type": "markdown",
   "id": "53f3e0ea",
   "metadata": {},
   "source": [
    "__Ans 5__\n",
    "- If acceleration is not towards west,east, north or south. Then it is towards up or down\n",
    "- Up acceleration is not possible, however, downward acceleration (acceleration due to gravity) is possible.\n",
    "- This is an example of _HORIZONTAL PROJECTILE MOTION_"
   ]
  },
  {
   "cell_type": "markdown",
   "id": "a2b6c6a0",
   "metadata": {},
   "source": [
    "__Ans 6__\n",
    "- Vy = Vsinθ, Vx = V cosθ\n",
    "- At the top point, V = V cosθ (min. velocity)\n",
    "- Because at the top point, Vx = V cosθ but Vy = 0\n",
    "- Therefore, at top point the projectile has smallest speed.\n",
    " \n"
   ]
  },
  {
   "cell_type": "markdown",
   "id": "cf1714fe",
   "metadata": {},
   "source": [
    "__Ans 7__\n",
    "- Sa = Sa1 + Sa2\n",
    "- Sa1 = ut + 1/2at²\n",
    "-  = 1/2a(t/2)²\n",
    "- = 1/2at²/4 = at²/8\n",
    "- Va = u + 1/2at\n",
    "- Va = at/2      {u = 0}\n",
    "- Sa2 = Vt/2 + 1/2(2a)(t/2)²\n",
    "- = at/2.t/2 + at²/4\n",
    "- = at²/4 + at²/4\n",
    "- Sa2 = at²/2\n",
    "\n"
   ]
  },
  {
   "cell_type": "markdown",
   "id": "06f998f3",
   "metadata": {},
   "source": [
    "- Sa = Sa1 + Sa2\n",
    "- = at²/8 + at²/2\n",
    "- = (at² + 4at²)/8\n",
    "- Sa = 5at²/8\n",
    "\n"
   ]
  },
  {
   "cell_type": "markdown",
   "id": "8409d7a8",
   "metadata": {},
   "source": [
    "- Sb = Sb1 + Sb2\n",
    "- Sb1 = ut + 1/2at²\n",
    "-  = 1/2(2a)(t/2)²\n",
    "- = at²/4 \n",
    "\n"
   ]
  },
  {
   "cell_type": "markdown",
   "id": "531f872d",
   "metadata": {},
   "source": [
    "- Vb = u + 1/2(2a)t\n",
    "- V = at      {u = 0}\n",
    "- Sb2 = Vt/2 + 1/2(a)(t/2)²\n",
    "- = at.t/2 + at²/8\n",
    "- = at²/2 + at²/8 = (4at² + at²)/8\n",
    "- Sb2 = 5at²/8 \n",
    "\n"
   ]
  },
  {
   "cell_type": "markdown",
   "id": "2b8468de",
   "metadata": {},
   "source": [
    "- Sb = Sb1 + Sb2\n",
    "- = at²/4 + 5at²/8\n",
    "- = (2at² + 5at²)/8\n",
    "- Sb = 7at²/8"
   ]
  },
  {
   "cell_type": "markdown",
   "id": "9f2020d3",
   "metadata": {},
   "source": [
    "- Sa = 5at²/8 = 0.6at²\n",
    "- Sb = 7at²/8 = 0.875at²\n",
    "- Sb > Sa"
   ]
  },
  {
   "cell_type": "markdown",
   "id": "4e4b9c3e",
   "metadata": {},
   "source": [
    "- Since Sb > Sa (7at²/8 > 5at²/8)\n",
    "- The second particle (Sb) has covered a larger distance"
   ]
  },
  {
   "cell_type": "markdown",
   "id": "2512145f",
   "metadata": {},
   "source": [
    "__Ans 8__\n",
    "- Acceleration = Δv/Δt (Δv depends on direction and magnitude)\n",
    "- In centripetal acceleration, there is Uniform Circular Motion and here acceleration does not speed up or down but speeds based on direction\n",
    "- Hence, we do not agree with this statement"
   ]
  }
 ],
 "metadata": {
  "language_info": {
   "name": "python"
  }
 },
 "nbformat": 4,
 "nbformat_minor": 5
}
