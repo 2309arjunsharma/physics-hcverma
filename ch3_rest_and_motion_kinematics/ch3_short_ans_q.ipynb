{
 "cells": [
  {
   "cell_type": "markdown",
   "id": "4c74f016",
   "metadata": {},
   "source": [
    "# SHORT ANSWER QUESTIONS OF CH-3"
   ]
  },
  {
   "cell_type": "markdown",
   "id": "38ee68af",
   "metadata": {},
   "source": [
    "__Ans 1__\n",
    "- Since there is no meaning of absolute motion. Therefore Both are equally correct or wrong because of the frame of reference"
   ]
  },
  {
   "cell_type": "markdown",
   "id": "8142c746",
   "metadata": {},
   "source": [
    "__Ans 2__\n",
    "- Δv = 5/1 = 5m/s\n",
    "- Δv avg = 5+5+5/3 = 15/3 = 5m/s\n",
    "- Δv ins = ds/dt = 5m/s\n",
    "- Speed (in one dimension motion)= magnitude of velocity gives speed\n",
    "- Speed = 5m/s\n",
    "- Yes all statements constant velocity, average velocity, instantaneous velocity and its speed are equal\n"
   ]
  },
  {
   "cell_type": "markdown",
   "id": "3e4e6ea8",
   "metadata": {},
   "source": [
    "__Ans 3__\n",
    "- Va = 60(-k)\n",
    "- Vb = 60(i)\n",
    "- Velocity depends on agnitude"
   ]
  }
 ],
 "metadata": {
  "language_info": {
   "name": "python"
  }
 },
 "nbformat": 4,
 "nbformat_minor": 5
}
