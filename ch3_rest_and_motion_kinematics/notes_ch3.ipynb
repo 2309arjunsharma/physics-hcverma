{
 "cells": [
  {
   "cell_type": "markdown",
   "id": "bf6c3bc9",
   "metadata": {},
   "source": [
    "# __Chapter -3 REST AND MOTION : KINEMATICS__"
   ]
  },
  {
   "cell_type": "markdown",
   "id": "51528cda",
   "metadata": {},
   "source": [
    "## 3.1 REST AND MOTION\n",
    "- __Rest :__ If the position of an object does not change with time, then then object is at rest.\n",
    "- __Motion :__ If a body changes its position with time, it is said to be moving.\n",
    "- Motion is a combined property of the object under study and the observer\n",
    "- To locate the position of a particle we need a frame of reference\n",
    "\n",
    "- Branches of Mechanics →\n",
    "    - Statics →\n",
    "        - Rest \n",
    "    - Dynamics →\n",
    "        - Motion →\n",
    "            - Kinematics\n",
    "            - Kinetics"
   ]
  },
  {
   "cell_type": "markdown",
   "id": "c852cb8b",
   "metadata": {},
   "source": [
    "__Parameters of Kinematics__\n",
    "1. ___Distance___ - length of the actual path. Measured by ODOMETER\n",
    "2. ___Displacement___ - Shortest distance between the initial and final positions\n",
    "3. ___Speed___ - Distance covered in unit time. Measured by SPEEDOMETER\n",
    "4. ___Velocity___ - Displacement covered in unit time\n",
    "1. ___Acceleration___ - Rate of change of velocity"
   ]
  },
  {
   "cell_type": "code",
   "execution_count": null,
   "id": "5047984f",
   "metadata": {
    "vscode": {
     "languageId": "plaintext"
    }
   },
   "outputs": [],
   "source": []
  },
  {
   "cell_type": "markdown",
   "id": "059ae157",
   "metadata": {},
   "source": [
    "- Types of General motion -\n",
    "    - Motion in 1-D\n",
    "    - Motion in 2-D\n",
    "    - Motion in 3-D"
   ]
  }
 ],
 "metadata": {
  "language_info": {
   "name": "python"
  }
 },
 "nbformat": 4,
 "nbformat_minor": 5
}
