{
 "cells": [
  {
   "cell_type": "markdown",
   "id": "bf6c3bc9",
   "metadata": {},
   "source": [
    "# __Chapter -3 REST AND MOTION : KINEMATICS__"
   ]
  },
  {
   "cell_type": "markdown",
   "id": "51528cda",
   "metadata": {},
   "source": [
    "## 3.1 REST AND MOTION\n",
    "- __Rest :__ If the position of an object does not change with time, then then object is at rest.\n",
    "- __Motion :__ If a body changes its position with time, it is said to be moving.\n",
    "- Motion is a combined property of the object under study and the observer\n",
    "- To locate the position of a particle we need a frame of reference\n",
    "\n",
    "- Branches of Mechanics →\n",
    "    - Statics →\n",
    "        - Rest \n",
    "    - Dynamics →\n",
    "        - Motion →\n",
    "            - Kinematics\n",
    "            - Kinetics"
   ]
  },
  {
   "cell_type": "markdown",
   "id": "c852cb8b",
   "metadata": {},
   "source": [
    "__Parameters of Kinematics__\n",
    "1. ___Distance___ - Length of the actual path. Measured by ODOMETER\n",
    "2. ___Displacement___ - Shortest distance between the initial and final positions\n",
    "3. ___Speed___ - Distance covered in unit time. Measured by SPEEDOMETER\n",
    "4. ___Velocity___ - Displacement covered in unit time\n",
    "1. ___Acceleration___ - Rate of change of velocity"
   ]
  },
  {
   "cell_type": "markdown",
   "id": "059ae157",
   "metadata": {},
   "source": [
    "- Types of General motion -\n",
    "    - Motion in 1-D - Only 1 coordinate changes with time \n",
    "    - Motion in 2-D - 2 coordinates changes with time \n",
    "    - Motion in 3-D -  All 3 coordinates changes with time "
   ]
  },
  {
   "cell_type": "markdown",
   "id": "2daf7191",
   "metadata": {},
   "source": [
    "## 3.2 DISTANCE AND DISPLACEMENT\n",
    "- The distance travelled during the time interval is length of the actual path.\n",
    "- The displacement of a particle is the shortest distance between the initial and final positions in a straight line\n",
    "- The magnitude of the displacement is the length of the straight line joining the initial and the final position. \n",
    "- The direction is from the initial to the final position.\n",
    "- Displacements add according to the triangle rule of vector addition.\n",
    "- Displacement is ,thus, a vector quantity\n",
    "- Distance covered has only magnitude, thus, it is a scalar quantity.\n",
    "- Both have same unit and dimensions.\n",
    "- Displacement will always be less than or equal to the distance\n",
    "- |Distance| > |Displacement|\n",
    "- |Distance| = |Displacement| - when object is moving in straight line.\n",
    "- Distance can never decrease with time.\n",
    "- Distance can never by negative or zero."
   ]
  },
  {
   "cell_type": "markdown",
   "id": "f70d83c3",
   "metadata": {},
   "source": [
    "## 3.3 AVERAGE SPEED AND INSTANTANEOUS SPEED\n",
    "\n",
    "__Speed__\n",
    "- Distance covered by an object in unit time (one second)\n",
    "- Speed = Distance/Time\n",
    "- It is a scalar quantity\n",
    "- SI unit = metre/second\n",
    "- CGS unit = centimetre/second\n",
    "- Dimensional formula = M⁰LT-¹ = LT-¹"
   ]
  },
  {
   "cell_type": "markdown",
   "id": "76f2e6e3",
   "metadata": {},
   "source": [
    "__Types of Speed__\n",
    "1. Average Speed\n",
    "2. Instantaneous Speed\n",
    "3. Uniform Speed\n",
    "4. Non-Uniform Speed"
   ]
  },
  {
   "cell_type": "markdown",
   "id": "fc972c70",
   "metadata": {},
   "source": [
    "__Average Speed__\n",
    "- V av = s/(t₂ - t₁)\n",
    "- The average speed gives the total effect in the given interval.\n",
    "- Average speed = Total distance/ total time\n",
    "- V av = Δs/Δt"
   ]
  },
  {
   "cell_type": "markdown",
   "id": "1385f28d",
   "metadata": {},
   "source": [
    "__Instantaneous Speed__\n",
    "- The instantaneous speed at a time t is defined as \n",
    "- v = lim Δs/Δt = ds/dt, where s is distance\n",
    "- The average speed is defined for a time interval and the instantaneous speed is defined at a particular instant.\n",
    "- Instantaneous Speed is also called \"speed\""
   ]
  },
  {
   "cell_type": "markdown",
   "id": "e96355cc",
   "metadata": {},
   "source": [
    "## 3.4 AVERAGE VELOCITY AND INSTANTENOEUS VELOCITY\n",
    "\n",
    "__Velocity__\n",
    "- Rate of change of displacement\n",
    "- Vector Quantity\n",
    "- Its direction is same as that of displacement \n",
    "- Unit and dimension same as that of speed, i.e, metre/second , LT-¹"
   ]
  },
  {
   "cell_type": "markdown",
   "id": "b3ca57f5",
   "metadata": {},
   "source": [
    "__Types of Velocity__\n",
    "1. Average Velocity\n",
    "2. Instantaneous Velocity\n",
    "3. Uniform Velocity\n",
    "4. Non-Uniform Velocity"
   ]
  },
  {
   "cell_type": "markdown",
   "id": "fddaaee3",
   "metadata": {},
   "source": [
    "__Average Velocity__\n",
    "- The average velocity of a particle in a time interval t₁ to t₂ is defined as its displacement divided by its time interval\n",
    "- Vav = AB/(t₂ - t₁)"
   ]
  },
  {
   "cell_type": "markdown",
   "id": "41cb34bf",
   "metadata": {},
   "source": [
    "__Instantaneous Velocity__\n",
    "- The instantaneous velocity of a particle at a time t is defined as--\n",
    "- Vav = lim Δr/Δt = dr/dt, where r is the displacement\n",
    "- Instantaneous Velocity is also called \"Velocity\""
   ]
  },
  {
   "cell_type": "markdown",
   "id": "21ad56ec",
   "metadata": {},
   "source": [
    "## 3.5 AVERAGE ACCELERATION AND INSTANTENOEUS ACCELERATION\n",
    "__Acceleration__\n",
    "- It is the rate of change of velocity of a body\n",
    "- It is a vector quantity\n",
    "- SI unit = metre/sec²\n",
    "- CGS unit = centimetre/sec²\n",
    "- Dimensional Formula = LT-²\n",
    "- Direction is same as that of change of velocity.\n",
    "- a = (Vf - Vi)/Δt = Vi - Ui/t \n",
    "- a = (v - u)i/t"
   ]
  },
  {
   "cell_type": "markdown",
   "id": "e607db75",
   "metadata": {},
   "source": [
    "__Kinematics Equation__\n",
    "\n",
    "Equations of motion are valid when acceleration remains constant\n",
    "- u = initial velocity\n",
    "- v = final velocity\n",
    "- a = constant acceleration\n",
    "- t = time\n",
    "- s = displacement"
   ]
  }
 ],
 "metadata": {
  "language_info": {
   "name": "python"
  }
 },
 "nbformat": 4,
 "nbformat_minor": 5
}
