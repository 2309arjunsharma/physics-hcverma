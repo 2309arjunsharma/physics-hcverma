{
 "cells": [
  {
   "cell_type": "markdown",
   "id": "bf6c3bc9",
   "metadata": {},
   "source": [
    "# __Chapter -3 REST AND MOTION : KINEMATICS__"
   ]
  },
  {
   "cell_type": "markdown",
   "id": "51528cda",
   "metadata": {},
   "source": [
    "## 3.1 REST AND MOTION\n",
    "- __Rest :__ If the position of an object does not change with time, then then object is at rest.\n",
    "- __Motion :__ If a body changes its position with time, it is said to be moving.\n",
    "- Motion is a combined property of the object under study and the observer\n",
    "- To locate the position of a particle we need a frame of reference\n",
    "\n",
    "- Branches of Mechanics →\n",
    "    - Statics →\n",
    "        - Rest \n",
    "    - Dynamics →\n",
    "        - Motion →\n",
    "            - Kinematics\n",
    "            - Kinetics"
   ]
  }
 ],
 "metadata": {
  "language_info": {
   "name": "python"
  }
 },
 "nbformat": 4,
 "nbformat_minor": 5
}
